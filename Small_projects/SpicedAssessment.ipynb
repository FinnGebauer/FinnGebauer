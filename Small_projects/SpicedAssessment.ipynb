{
 "cells": [
  {
   "cell_type": "markdown",
   "metadata": {},
   "source": [
    "Import all packages we are going to use"
   ]
  },
  {
   "cell_type": "code",
   "execution_count": 234,
   "metadata": {},
   "outputs": [],
   "source": [
    "import pandas as pd\n",
    "import numpy as np\n",
    "from matplotlib import pyplot as plt\n",
    "import seaborn as sns"
   ]
  },
  {
   "cell_type": "markdown",
   "metadata": {},
   "source": [
    "1. Read the csv"
   ]
  },
  {
   "cell_type": "code",
   "execution_count": 235,
   "metadata": {},
   "outputs": [],
   "source": [
    "df = pd.read_csv(\"/Users/finngebauer/Code/Python/Spiced/datapoints.csv\")"
   ]
  },
  {
   "cell_type": "code",
   "execution_count": 236,
   "metadata": {},
   "outputs": [
    {
     "data": {
      "text/html": [
       "<div>\n",
       "<style scoped>\n",
       "    .dataframe tbody tr th:only-of-type {\n",
       "        vertical-align: middle;\n",
       "    }\n",
       "\n",
       "    .dataframe tbody tr th {\n",
       "        vertical-align: top;\n",
       "    }\n",
       "\n",
       "    .dataframe thead th {\n",
       "        text-align: right;\n",
       "    }\n",
       "</style>\n",
       "<table border=\"1\" class=\"dataframe\">\n",
       "  <thead>\n",
       "    <tr style=\"text-align: right;\">\n",
       "      <th></th>\n",
       "      <th>x</th>\n",
       "      <th>y</th>\n",
       "    </tr>\n",
       "  </thead>\n",
       "  <tbody>\n",
       "    <tr>\n",
       "      <th>0</th>\n",
       "      <td>0.000000</td>\n",
       "      <td>0.496714</td>\n",
       "    </tr>\n",
       "    <tr>\n",
       "      <th>1</th>\n",
       "      <td>0.052632</td>\n",
       "      <td>0.019630</td>\n",
       "    </tr>\n",
       "    <tr>\n",
       "      <th>2</th>\n",
       "      <td>0.105263</td>\n",
       "      <td>0.963478</td>\n",
       "    </tr>\n",
       "    <tr>\n",
       "      <th>3</th>\n",
       "      <td>0.157895</td>\n",
       "      <td>1.996714</td>\n",
       "    </tr>\n",
       "    <tr>\n",
       "      <th>4</th>\n",
       "      <td>0.210526</td>\n",
       "      <td>0.397426</td>\n",
       "    </tr>\n",
       "  </tbody>\n",
       "</table>\n",
       "</div>"
      ],
      "text/plain": [
       "          x         y\n",
       "0  0.000000  0.496714\n",
       "1  0.052632  0.019630\n",
       "2  0.105263  0.963478\n",
       "3  0.157895  1.996714\n",
       "4  0.210526  0.397426"
      ]
     },
     "execution_count": 236,
     "metadata": {},
     "output_type": "execute_result"
    }
   ],
   "source": [
    "df.head() #check what's going on in the dataframe"
   ]
  },
  {
   "cell_type": "code",
   "execution_count": 237,
   "metadata": {},
   "outputs": [],
   "source": [
    "#create an array for each column for later tasks\n",
    "\n",
    "xarr = np.array(df['x'])\n",
    "yarr  = np.array(df['y'])"
   ]
  },
  {
   "cell_type": "markdown",
   "metadata": {},
   "source": [
    "2. Create a simple scatterplot"
   ]
  },
  {
   "cell_type": "code",
   "execution_count": 238,
   "metadata": {},
   "outputs": [
    {
     "data": {
      "image/png": "[encoded data removed]",
      "text/plain": [
       "<Figure size 432x288 with 1 Axes>"
      ]
     },
     "metadata": {
      "needs_background": "light"
     },
     "output_type": "display_data"
    }
   ],
   "source": [
    "sns.regplot(x='x', y='y', data=df, ci=None, line_kws={'color': 'g'}) #I use a simple regplot for the regression line and omit the confidence intervals to have a cleaner view\n",
    "plt.show()\n",
    "\n"
   ]
  },
  {
   "cell_type": "markdown",
   "metadata": {},
   "source": [
    "3. calculate y values for x values"
   ]
  },
  {
   "cell_type": "code",
   "execution_count": 239,
   "metadata": {},
   "outputs": [
    {
     "name": "stdout",
     "output_type": "stream",
     "text": [
      "[0.0, 0.526315789473684, 1.052631578947368, 1.578947368421052, 2.105263157894736, 2.631578947368421, 3.1578947368421053, 3.6842105263157894, 4.210526315789473, 4.7368421052631575, 5.263157894736842, 5.7894736842105265, 6.315789473684211, 6.842105263157894, 7.368421052631579, 7.894736842105264, 8.421052631578947, 8.94736842105263, 9.473684210526317, 10.0]\n"
     ]
    }
   ],
   "source": [
    "def y_predicted_calc(a,b,x):\n",
    "    y_pred=[]\n",
    "    for xi in x:\n",
    "        y = a*xi+b\n",
    "        y_pred.append(y)\n",
    "    return y_pred\n",
    "        \n",
    "y_pred_list = y_predicted_calc(10,0, xarr)\n",
    "print(y_pred_list)"
   ]
  },
  {
   "cell_type": "markdown",
   "metadata": {},
   "source": [
    "4. MSE calculation"
   ]
  },
  {
   "cell_type": "code",
   "execution_count": 240,
   "metadata": {},
   "outputs": [
    {
     "name": "stdout",
     "output_type": "stream",
     "text": [
      "21.306499419071013\n"
     ]
    }
   ],
   "source": [
    "\n",
    "def MSE(y_actual, y_pred):\n",
    "    y_actual = np.array(y_actual)\n",
    "    y_pred = np.array(y_pred)\n",
    "    summation = np.subtract(y_actual,y_pred)\n",
    "    squareddiff = summation**2\n",
    "    MSE = squareddiff.mean() #instead of dividing by length of the input list/array, I take the mean right away\n",
    "    return MSE\n",
    "\n",
    "print(MSE(yarr, y_pred_list))\n",
    "current_MSE = MSE(yarr, y_pred_list)"
   ]
  },
  {
   "cell_type": "markdown",
   "metadata": {},
   "source": [
    "5. Find the lowest MSE based on a value"
   ]
  },
  {
   "cell_type": "code",
   "execution_count": 241,
   "metadata": {},
   "outputs": [
    {
     "data": {
      "text/plain": [
       "(2.2000000000000197, 0.7080422372498424)"
      ]
     },
     "execution_count": 241,
     "metadata": {},
     "output_type": "execute_result"
    }
   ],
   "source": [
    "def lowest_mse_a(a, b, x, y):\n",
    "    lowest_MSE_a = dict()\n",
    "    while a > 0:\n",
    "        a = a-0.1\n",
    "        y_pred= y_predicted_calc(a, b, x)\n",
    "        lowest_MSE_a.update([(a, MSE(y, y_pred))])\n",
    "    return(min(lowest_MSE_a.items(), key= lambda x: x[1]))\n",
    "\n",
    "lowest_mse_a(10, 0, xarr, yarr)"
   ]
  },
  {
   "cell_type": "markdown",
   "metadata": {},
   "source": [
    "6. Find the lowest MSE based on a&b values\n"
   ]
  },
  {
   "cell_type": "markdown",
   "metadata": {},
   "source": [
    "After getting it to work, let's make it a callable function"
   ]
  },
  {
   "cell_type": "code",
   "execution_count": 245,
   "metadata": {},
   "outputs": [],
   "source": [
    "def best_MSE(a, b, starting_MSE): \n",
    "    lowest_MSE = starting_MSE\n",
    "    result_MSE =  [a*10,b*10,lowest_MSE]\n",
    "    for a in range(a*10, 0, -1):\n",
    "        for b in range(b*10, 0, -1):\n",
    "            y_pred= y_predicted_calc(a/10, b/10, xarr)\n",
    "            MSE_calc = MSE(yarr, y_pred)\n",
    "            if MSE_calc < lowest_MSE:\n",
    "                lowest_MSE = MSE_calc\n",
    "                result_MSE[0] = a/10\n",
    "                result_MSE[1] = b/10\n",
    "                result_MSE[2] = lowest_MSE\n",
    "            else:\n",
    "                continue\n",
    "    return(result_MSE)   \n",
    "\n",
    "final_MSE = best_MSE(10, 10, current_MSE)"
   ]
  },
  {
   "cell_type": "markdown",
   "metadata": {},
   "source": [
    "Time to fill the dataframe with the lowest values"
   ]
  },
  {
   "cell_type": "code",
   "execution_count": 246,
   "metadata": {},
   "outputs": [
    {
     "name": "stdout",
     "output_type": "stream",
     "text": [
      "           x         y  y_pred_lowest\n",
      "0   0.000000  0.496714       0.800000\n",
      "1   0.052632  0.019630       0.857895\n",
      "2   0.105263  0.963478       0.915789\n",
      "3   0.157895  1.996714       0.973684\n",
      "4   0.210526  0.397426       1.031579\n",
      "5   0.263158  0.555337       1.089474\n",
      "6   0.315789  2.526581       1.147368\n",
      "7   0.368421  1.872698       1.205263\n",
      "8   0.421053  0.793684       1.263158\n",
      "9   0.473684  1.963613       1.321053\n",
      "10  0.526316  1.115530       1.378947\n",
      "11  0.578947  1.271112       1.436842\n",
      "12  0.631579  2.136699       1.494737\n",
      "13  0.684211  0.139351       1.552632\n",
      "14  0.736842  0.485608       1.610526\n",
      "15  0.789474  1.806134       1.668421\n",
      "16  0.842105  1.513485       1.726316\n",
      "17  0.894737  2.998458       1.784211\n",
      "18  0.947368  1.934081       1.842105\n",
      "19  1.000000  1.587696       1.900000\n"
     ]
    }
   ],
   "source": [
    "\n",
    "df['y_pred_lowest'] = y_predicted_calc(final_MSE[0], final_MSE[1], xarr)\n",
    "print(df)\n"
   ]
  },
  {
   "cell_type": "markdown",
   "metadata": {},
   "source": [
    "7. How can the algorithm be improved?\n",
    "\n",
    "It is not the prettiest code, especially with the limitations of the range() function only being able to use integers. Not sure if there is another way to implement a loop for this case.\n",
    "\n",
    "Additionally, while I tried to use as many Numpy arrays as possible to speed up processes, there are probably still ways to make it quicker for larger data frames\n",
    "\n",
    "Regarding my code, a lot of the variable names are pretty similar and this can get confusing."
   ]
  }
 ],
 "metadata": {
  "kernelspec": {
   "display_name": "Python 3.9.12 ('base')",
   "language": "python",
   "name": "python3"
  },
  "language_info": {
   "codemirror_mode": {
    "name": "ipython",
    "version": 3
   },
   "file_extension": ".py",
   "mimetype": "text/x-python",
   "name": "python",
   "nbconvert_exporter": "python",
   "pygments_lexer": "ipython3",
   "version": "3.9.12"
  },
  "orig_nbformat": 4,
  "vscode": {
   "interpreter": {
    "hash": "6e93ef0cda1eb70a8627ef9488259f9fc9dc1cc25768c937fdc18409a00ced42"
   }
  }
 },
 "nbformat": 4,
 "nbformat_minor": 2
}
