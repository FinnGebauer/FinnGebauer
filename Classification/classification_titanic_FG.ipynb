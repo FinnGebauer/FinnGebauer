{
 "cells": [
  {
   "cell_type": "markdown",
   "id": "4ff46a32",
   "metadata": {},
   "source": [
    "## 1. Preparation"
   ]
  },
  {
   "cell_type": "markdown",
   "id": "99ed0c14",
   "metadata": {},
   "source": [
    "**1.1 Import modules**"
   ]
  },
  {
   "cell_type": "code",
   "execution_count": 850,
   "id": "8ddd117b",
   "metadata": {},
   "outputs": [],
   "source": [
    "import pandas as pd\n",
    "import numpy as np\n",
    "import matplotlib.pyplot as plt\n",
    "import seaborn as sns\n",
    "\n",
    "sns.set_theme(style='dark', palette='colorblind', color_codes=True)\n",
    "\n",
    "from sklearn.model_selection import train_test_split\n",
    "from sklearn.dummy import DummyClassifier\n",
    "from sklearn.linear_model import LogisticRegression\n",
    "from sklearn.metrics import plot_roc_curve, roc_curve, auc\n",
    "from sklearn.impute import SimpleImputer\n",
    "from sklearn.ensemble import RandomForestClassifier\n",
    "from sklearn.metrics import ConfusionMatrixDisplay\n",
    "from sklearn.metrics import classification_report\n",
    "from sklearn.svm import SVC\n",
    "from sklearn.ensemble import VotingClassifier"
   ]
  },
  {
   "cell_type": "markdown",
   "id": "e683387c",
   "metadata": {},
   "source": [
    "**1.2 Read the file train.csv into Python and print a few rows.**"
   ]
  },
  {
   "cell_type": "code",
   "execution_count": 851,
   "id": "5a5866b2",
   "metadata": {},
   "outputs": [],
   "source": [
    "df = pd.read_csv('../data/train.csv', index_col=0)"
   ]
  },
  {
   "cell_type": "code",
   "execution_count": 852,
   "id": "58505e7c",
   "metadata": {},
   "outputs": [
    {
     "data": {
      "text/html": [
       "<div>\n",
       "<style scoped>\n",
       "    .dataframe tbody tr th:only-of-type {\n",
       "        vertical-align: middle;\n",
       "    }\n",
       "\n",
       "    .dataframe tbody tr th {\n",
       "        vertical-align: top;\n",
       "    }\n",
       "\n",
       "    .dataframe thead th {\n",
       "        text-align: right;\n",
       "    }\n",
       "</style>\n",
       "<table border=\"1\" class=\"dataframe\">\n",
       "  <thead>\n",
       "    <tr style=\"text-align: right;\">\n",
       "      <th></th>\n",
       "      <th>Survived</th>\n",
       "      <th>Pclass</th>\n",
       "      <th>Name</th>\n",
       "      <th>Sex</th>\n",
       "      <th>Age</th>\n",
       "      <th>SibSp</th>\n",
       "      <th>Parch</th>\n",
       "      <th>Ticket</th>\n",
       "      <th>Fare</th>\n",
       "      <th>Cabin</th>\n",
       "      <th>Embarked</th>\n",
       "    </tr>\n",
       "    <tr>\n",
       "      <th>PassengerId</th>\n",
       "      <th></th>\n",
       "      <th></th>\n",
       "      <th></th>\n",
       "      <th></th>\n",
       "      <th></th>\n",
       "      <th></th>\n",
       "      <th></th>\n",
       "      <th></th>\n",
       "      <th></th>\n",
       "      <th></th>\n",
       "      <th></th>\n",
       "    </tr>\n",
       "  </thead>\n",
       "  <tbody>\n",
       "    <tr>\n",
       "      <th>1</th>\n",
       "      <td>0</td>\n",
       "      <td>3</td>\n",
       "      <td>Braund, Mr. Owen Harris</td>\n",
       "      <td>male</td>\n",
       "      <td>22.0</td>\n",
       "      <td>1</td>\n",
       "      <td>0</td>\n",
       "      <td>A/5 21171</td>\n",
       "      <td>7.2500</td>\n",
       "      <td>NaN</td>\n",
       "      <td>S</td>\n",
       "    </tr>\n",
       "    <tr>\n",
       "      <th>2</th>\n",
       "      <td>1</td>\n",
       "      <td>1</td>\n",
       "      <td>Cumings, Mrs. John Bradley (Florence Briggs Th...</td>\n",
       "      <td>female</td>\n",
       "      <td>38.0</td>\n",
       "      <td>1</td>\n",
       "      <td>0</td>\n",
       "      <td>PC 17599</td>\n",
       "      <td>71.2833</td>\n",
       "      <td>C85</td>\n",
       "      <td>C</td>\n",
       "    </tr>\n",
       "    <tr>\n",
       "      <th>3</th>\n",
       "      <td>1</td>\n",
       "      <td>3</td>\n",
       "      <td>Heikkinen, Miss. Laina</td>\n",
       "      <td>female</td>\n",
       "      <td>26.0</td>\n",
       "      <td>0</td>\n",
       "      <td>0</td>\n",
       "      <td>STON/O2. 3101282</td>\n",
       "      <td>7.9250</td>\n",
       "      <td>NaN</td>\n",
       "      <td>S</td>\n",
       "    </tr>\n",
       "    <tr>\n",
       "      <th>4</th>\n",
       "      <td>1</td>\n",
       "      <td>1</td>\n",
       "      <td>Futrelle, Mrs. Jacques Heath (Lily May Peel)</td>\n",
       "      <td>female</td>\n",
       "      <td>35.0</td>\n",
       "      <td>1</td>\n",
       "      <td>0</td>\n",
       "      <td>113803</td>\n",
       "      <td>53.1000</td>\n",
       "      <td>C123</td>\n",
       "      <td>S</td>\n",
       "    </tr>\n",
       "    <tr>\n",
       "      <th>5</th>\n",
       "      <td>0</td>\n",
       "      <td>3</td>\n",
       "      <td>Allen, Mr. William Henry</td>\n",
       "      <td>male</td>\n",
       "      <td>35.0</td>\n",
       "      <td>0</td>\n",
       "      <td>0</td>\n",
       "      <td>373450</td>\n",
       "      <td>8.0500</td>\n",
       "      <td>NaN</td>\n",
       "      <td>S</td>\n",
       "    </tr>\n",
       "  </tbody>\n",
       "</table>\n",
       "</div>"
      ],
      "text/plain": [
       "             Survived  Pclass  \\\n",
       "PassengerId                     \n",
       "1                   0       3   \n",
       "2                   1       1   \n",
       "3                   1       3   \n",
       "4                   1       1   \n",
       "5                   0       3   \n",
       "\n",
       "                                                          Name     Sex   Age  \\\n",
       "PassengerId                                                                    \n",
       "1                                      Braund, Mr. Owen Harris    male  22.0   \n",
       "2            Cumings, Mrs. John Bradley (Florence Briggs Th...  female  38.0   \n",
       "3                                       Heikkinen, Miss. Laina  female  26.0   \n",
       "4                 Futrelle, Mrs. Jacques Heath (Lily May Peel)  female  35.0   \n",
       "5                                     Allen, Mr. William Henry    male  35.0   \n",
       "\n",
       "             SibSp  Parch            Ticket     Fare Cabin Embarked  \n",
       "PassengerId                                                          \n",
       "1                1      0         A/5 21171   7.2500   NaN        S  \n",
       "2                1      0          PC 17599  71.2833   C85        C  \n",
       "3                0      0  STON/O2. 3101282   7.9250   NaN        S  \n",
       "4                1      0            113803  53.1000  C123        S  \n",
       "5                0      0            373450   8.0500   NaN        S  "
      ]
     },
     "execution_count": 852,
     "metadata": {},
     "output_type": "execute_result"
    }
   ],
   "source": [
    "df.head()"
   ]
  },
  {
   "cell_type": "markdown",
   "id": "eee25364",
   "metadata": {},
   "source": [
    "## 2. EDA"
   ]
  },
  {
   "cell_type": "markdown",
   "id": "ebe41cbf",
   "metadata": {},
   "source": [
    "**2.1 Calculate the number of surviving/non-surviving passengers and display it as a bar plot.**"
   ]
  },
  {
   "cell_type": "code",
   "execution_count": 853,
   "id": "9bf209fc",
   "metadata": {},
   "outputs": [
    {
     "data": {
      "text/plain": [
       "Survived\n",
       "0    549\n",
       "1    342\n",
       "dtype: int64"
      ]
     },
     "execution_count": 853,
     "metadata": {},
     "output_type": "execute_result"
    }
   ],
   "source": [
    "df.value_counts('Survived')"
   ]
  },
  {
   "cell_type": "code",
   "execution_count": 854,
   "id": "954695ac",
   "metadata": {},
   "outputs": [
    {
     "data": {
      "text/html": [
       "<div>\n",
       "<style scoped>\n",
       "    .dataframe tbody tr th:only-of-type {\n",
       "        vertical-align: middle;\n",
       "    }\n",
       "\n",
       "    .dataframe tbody tr th {\n",
       "        vertical-align: top;\n",
       "    }\n",
       "\n",
       "    .dataframe thead th {\n",
       "        text-align: right;\n",
       "    }\n",
       "</style>\n",
       "<table border=\"1\" class=\"dataframe\">\n",
       "  <thead>\n",
       "    <tr style=\"text-align: right;\">\n",
       "      <th></th>\n",
       "      <th>Status</th>\n",
       "      <th>Number_of_people</th>\n",
       "    </tr>\n",
       "  </thead>\n",
       "  <tbody>\n",
       "    <tr>\n",
       "      <th>0</th>\n",
       "      <td>0</td>\n",
       "      <td>549</td>\n",
       "    </tr>\n",
       "    <tr>\n",
       "      <th>1</th>\n",
       "      <td>1</td>\n",
       "      <td>342</td>\n",
       "    </tr>\n",
       "  </tbody>\n",
       "</table>\n",
       "</div>"
      ],
      "text/plain": [
       "   Status  Number_of_people\n",
       "0       0               549\n",
       "1       1               342"
      ]
     },
     "execution_count": 854,
     "metadata": {},
     "output_type": "execute_result"
    }
   ],
   "source": [
    "survival = df.value_counts('Survived').reset_index()\n",
    "survival.rename(columns={'Survived':'Status',0:'Number_of_people'}, inplace=True)\n",
    "survival"
   ]
  },
  {
   "cell_type": "code",
   "execution_count": 855,
   "id": "e08e7e68",
   "metadata": {},
   "outputs": [
    {
     "data": {
      "image/png": "[encoded data removed]",
      "text/plain": [
       "<Figure size 432x288 with 1 Axes>"
      ]
     },
     "metadata": {},
     "output_type": "display_data"
    }
   ],
   "source": [
    "survival['Number_of_people'].plot.barh(alpha=0.7, color=['b', 'orange']);"
   ]
  },
  {
   "cell_type": "markdown",
   "id": "587c3948",
   "metadata": {},
   "source": [
    "Sadly, more people died than survived. Let's look at possible reasons for that."
   ]
  },
  {
   "cell_type": "markdown",
   "id": "14ed4bff",
   "metadata": {},
   "source": [
    "**2.2 Calculate the proportion of surviving 1st class passengers with regards to the total number of 1st class passengers.**"
   ]
  },
  {
   "cell_type": "code",
   "execution_count": 856,
   "id": "76babecb",
   "metadata": {
    "scrolled": true
   },
   "outputs": [
    {
     "data": {
      "text/html": [
       "<div>\n",
       "<style scoped>\n",
       "    .dataframe tbody tr th:only-of-type {\n",
       "        vertical-align: middle;\n",
       "    }\n",
       "\n",
       "    .dataframe tbody tr th {\n",
       "        vertical-align: top;\n",
       "    }\n",
       "\n",
       "    .dataframe thead th {\n",
       "        text-align: right;\n",
       "    }\n",
       "</style>\n",
       "<table border=\"1\" class=\"dataframe\">\n",
       "  <thead>\n",
       "    <tr style=\"text-align: right;\">\n",
       "      <th></th>\n",
       "      <th>Pclass</th>\n",
       "      <th>Drowned</th>\n",
       "      <th>Survivor</th>\n",
       "      <th>Ratio</th>\n",
       "    </tr>\n",
       "  </thead>\n",
       "  <tbody>\n",
       "    <tr>\n",
       "      <th>0</th>\n",
       "      <td>1</td>\n",
       "      <td>80</td>\n",
       "      <td>136</td>\n",
       "      <td>0.629630</td>\n",
       "    </tr>\n",
       "    <tr>\n",
       "      <th>1</th>\n",
       "      <td>2</td>\n",
       "      <td>97</td>\n",
       "      <td>87</td>\n",
       "      <td>0.472826</td>\n",
       "    </tr>\n",
       "    <tr>\n",
       "      <th>2</th>\n",
       "      <td>3</td>\n",
       "      <td>372</td>\n",
       "      <td>119</td>\n",
       "      <td>0.242363</td>\n",
       "    </tr>\n",
       "  </tbody>\n",
       "</table>\n",
       "</div>"
      ],
      "text/plain": [
       "   Pclass  Drowned  Survivor     Ratio\n",
       "0       1       80       136  0.629630\n",
       "1       2       97        87  0.472826\n",
       "2       3      372       119  0.242363"
      ]
     },
     "execution_count": 856,
     "metadata": {},
     "output_type": "execute_result"
    }
   ],
   "source": [
    "class_survivors = pd.crosstab(df.Pclass, df.Survived)\n",
    "class_survivors['Ratio'] = class_survivors[1]/(class_survivors[0] + class_survivors[1])\n",
    "\n",
    "class_survivors.columns.name=''\n",
    "class_survivors.reset_index(inplace=True)\n",
    "\n",
    "class_survivors.rename(columns={0:'Drowned', 1:'Survivor'}, inplace=True)\n",
    "\n",
    "class_survivors"
   ]
  },
  {
   "cell_type": "code",
   "execution_count": 857,
   "id": "6f3c1296",
   "metadata": {},
   "outputs": [
    {
     "data": {
      "image/png": "[encoded data removed]",
      "text/plain": [
       "<Figure size 432x288 with 1 Axes>"
      ]
     },
     "metadata": {},
     "output_type": "display_data"
    }
   ],
   "source": [
    "sns.barplot(data=class_survivors, y='Ratio', x='Pclass', alpha=0.7);"
   ]
  },
  {
   "cell_type": "markdown",
   "id": "f9fc164b",
   "metadata": {},
   "source": [
    "The ratio of people surviving in the first class is much higher. Quite telling already."
   ]
  },
  {
   "cell_type": "markdown",
   "id": "66dbb002",
   "metadata": {},
   "source": [
    "**2.3 Create a bar plot with separate bars for male/female passengers and 1st/2nd/3rd class passengers.**"
   ]
  },
  {
   "cell_type": "code",
   "execution_count": 858,
   "id": "e52f6cc3",
   "metadata": {},
   "outputs": [
    {
     "data": {
      "image/png": "[encoded data removed]",
      "text/plain": [
       "<Figure size 432x288 with 1 Axes>"
      ]
     },
     "metadata": {},
     "output_type": "display_data"
    }
   ],
   "source": [
    "sns.countplot(data = df, x = 'Sex', hue= 'Pclass', alpha=0.7);                   "
   ]
  },
  {
   "cell_type": "code",
   "execution_count": 859,
   "id": "a5a451d7",
   "metadata": {},
   "outputs": [
    {
     "data": {
      "text/html": [
       "<div>\n",
       "<style scoped>\n",
       "    .dataframe tbody tr th:only-of-type {\n",
       "        vertical-align: middle;\n",
       "    }\n",
       "\n",
       "    .dataframe tbody tr th {\n",
       "        vertical-align: top;\n",
       "    }\n",
       "\n",
       "    .dataframe thead th {\n",
       "        text-align: right;\n",
       "    }\n",
       "</style>\n",
       "<table border=\"1\" class=\"dataframe\">\n",
       "  <thead>\n",
       "    <tr style=\"text-align: right;\">\n",
       "      <th>Sex</th>\n",
       "      <th>female</th>\n",
       "      <th>male</th>\n",
       "    </tr>\n",
       "    <tr>\n",
       "      <th>Pclass</th>\n",
       "      <th></th>\n",
       "      <th></th>\n",
       "    </tr>\n",
       "  </thead>\n",
       "  <tbody>\n",
       "    <tr>\n",
       "      <th>1</th>\n",
       "      <td>94</td>\n",
       "      <td>122</td>\n",
       "    </tr>\n",
       "    <tr>\n",
       "      <th>2</th>\n",
       "      <td>76</td>\n",
       "      <td>108</td>\n",
       "    </tr>\n",
       "    <tr>\n",
       "      <th>3</th>\n",
       "      <td>144</td>\n",
       "      <td>347</td>\n",
       "    </tr>\n",
       "  </tbody>\n",
       "</table>\n",
       "</div>"
      ],
      "text/plain": [
       "Sex     female  male\n",
       "Pclass              \n",
       "1           94   122\n",
       "2           76   108\n",
       "3          144   347"
      ]
     },
     "execution_count": 859,
     "metadata": {},
     "output_type": "execute_result"
    }
   ],
   "source": [
    "grouped_sex_class = df.groupby(['Pclass', 'Sex']).size().reset_index().pivot(columns='Sex', index='Pclass', values=0)\n",
    "grouped_sex_class"
   ]
  },
  {
   "cell_type": "code",
   "execution_count": 860,
   "id": "1dcd2992",
   "metadata": {},
   "outputs": [
    {
     "data": {
      "image/png": "[encoded data removed]",
      "text/plain": [
       "<Figure size 432x288 with 1 Axes>"
      ]
     },
     "metadata": {},
     "output_type": "display_data"
    }
   ],
   "source": [
    "grouped_sex_class.plot.bar(alpha = 0.7, stacked=True)\n",
    "plt.xticks(rotation=0);"
   ]
  },
  {
   "cell_type": "markdown",
   "id": "e062c961",
   "metadata": {},
   "source": [
    "**2.4. Create a histogram showing the age distribution of passengers. Compare surviving/non-surviving passengers.**"
   ]
  },
  {
   "cell_type": "code",
   "execution_count": 861,
   "id": "74c6f9e7",
   "metadata": {},
   "outputs": [
    {
     "data": {
      "image/png": "[encoded data removed]",
      "text/plain": [
       "<Figure size 432x288 with 1 Axes>"
      ]
     },
     "metadata": {},
     "output_type": "display_data"
    }
   ],
   "source": [
    "fig, ax = plt.subplots()\n",
    "ax = df['Age'][df['Survived'] == 0].hist(bins=20, alpha=0.6, label='Drowned')\n",
    "ax = df['Age'][df['Survived'] == 1].hist(bins=20, alpha=0.6, label='Survived')\n",
    "plt.legend();"
   ]
  },
  {
   "cell_type": "markdown",
   "id": "0da58612",
   "metadata": {},
   "source": [
    "Survivors seemed to be slightly younger than the majority of people who drowned."
   ]
  },
  {
   "cell_type": "markdown",
   "id": "b5a2ad6a",
   "metadata": {},
   "source": [
    "**2.5. Create a table counting the number of surviving/dead passengers separately for 1st/2nd/3rd class and male/female.**"
   ]
  },
  {
   "cell_type": "code",
   "execution_count": 862,
   "id": "37c57591",
   "metadata": {},
   "outputs": [
    {
     "data": {
      "text/html": [
       "<div>\n",
       "<style scoped>\n",
       "    .dataframe tbody tr th:only-of-type {\n",
       "        vertical-align: middle;\n",
       "    }\n",
       "\n",
       "    .dataframe tbody tr th {\n",
       "        vertical-align: top;\n",
       "    }\n",
       "\n",
       "    .dataframe thead th {\n",
       "        text-align: right;\n",
       "    }\n",
       "</style>\n",
       "<table border=\"1\" class=\"dataframe\">\n",
       "  <thead>\n",
       "    <tr style=\"text-align: right;\">\n",
       "      <th></th>\n",
       "      <th>Sex</th>\n",
       "      <th>female</th>\n",
       "      <th>male</th>\n",
       "    </tr>\n",
       "    <tr>\n",
       "      <th>Survived</th>\n",
       "      <th>Pclass</th>\n",
       "      <th></th>\n",
       "      <th></th>\n",
       "    </tr>\n",
       "  </thead>\n",
       "  <tbody>\n",
       "    <tr>\n",
       "      <th rowspan=\"3\" valign=\"top\">0</th>\n",
       "      <th>1</th>\n",
       "      <td>3</td>\n",
       "      <td>77</td>\n",
       "    </tr>\n",
       "    <tr>\n",
       "      <th>2</th>\n",
       "      <td>6</td>\n",
       "      <td>91</td>\n",
       "    </tr>\n",
       "    <tr>\n",
       "      <th>3</th>\n",
       "      <td>72</td>\n",
       "      <td>300</td>\n",
       "    </tr>\n",
       "    <tr>\n",
       "      <th rowspan=\"3\" valign=\"top\">1</th>\n",
       "      <th>1</th>\n",
       "      <td>91</td>\n",
       "      <td>45</td>\n",
       "    </tr>\n",
       "    <tr>\n",
       "      <th>2</th>\n",
       "      <td>70</td>\n",
       "      <td>17</td>\n",
       "    </tr>\n",
       "    <tr>\n",
       "      <th>3</th>\n",
       "      <td>72</td>\n",
       "      <td>47</td>\n",
       "    </tr>\n",
       "  </tbody>\n",
       "</table>\n",
       "</div>"
      ],
      "text/plain": [
       "Sex              female  male\n",
       "Survived Pclass              \n",
       "0        1            3    77\n",
       "         2            6    91\n",
       "         3           72   300\n",
       "1        1           91    45\n",
       "         2           70    17\n",
       "         3           72    47"
      ]
     },
     "execution_count": 862,
     "metadata": {},
     "output_type": "execute_result"
    }
   ],
   "source": [
    "ct_sex_status_class = pd.crosstab([df.Survived, df.Pclass], df.Sex)\n",
    "ct_sex_status_class"
   ]
  },
  {
   "cell_type": "code",
   "execution_count": 863,
   "id": "7107dbd0",
   "metadata": {},
   "outputs": [
    {
     "data": {
      "image/png": "[encoded data removed]",
      "text/plain": [
       "<Figure size 432x288 with 1 Axes>"
      ]
     },
     "metadata": {},
     "output_type": "display_data"
    }
   ],
   "source": [
    "ct_sex_status_class.plot.bar(stacked=True, alpha=0.7);"
   ]
  },
  {
   "cell_type": "markdown",
   "id": "84c0f703",
   "metadata": {},
   "source": [
    "**2.6 Calculate the average age for survived and drowned passengers separately.**"
   ]
  },
  {
   "cell_type": "code",
   "execution_count": 864,
   "id": "c0ec2cae",
   "metadata": {},
   "outputs": [
    {
     "data": {
      "text/plain": [
       "28.0"
      ]
     },
     "execution_count": 864,
     "metadata": {},
     "output_type": "execute_result"
    }
   ],
   "source": [
    "mean_age_survivors = round(df[df['Survived'] == 1].mean(numeric_only=True)['Age'],0)\n",
    "mean_age_survivors"
   ]
  },
  {
   "cell_type": "code",
   "execution_count": 865,
   "id": "4b18f2ba",
   "metadata": {},
   "outputs": [
    {
     "data": {
      "text/plain": [
       "31.0"
      ]
     },
     "execution_count": 865,
     "metadata": {},
     "output_type": "execute_result"
    }
   ],
   "source": [
    "mean_age_drowned = round(df[df['Survived'] == 0].mean(numeric_only=True)['Age'], 0)\n",
    "mean_age_drowned"
   ]
  },
  {
   "cell_type": "markdown",
   "id": "f2f75cac",
   "metadata": {},
   "source": [
    "## 3. First logistic regression"
   ]
  },
  {
   "cell_type": "markdown",
   "id": "20706f85",
   "metadata": {},
   "source": [
    "**3.1 Let's just run a logistic regression right now to get a baseline from which to improve our model. We'll use all numeric data we have right now**"
   ]
  },
  {
   "cell_type": "code",
   "execution_count": 866,
   "id": "87ecaa28",
   "metadata": {},
   "outputs": [],
   "source": [
    "df_subset = df[['Pclass', 'Fare', 'Survived','SibSp', 'Parch']]"
   ]
  },
  {
   "cell_type": "code",
   "execution_count": 867,
   "id": "1e0a432d",
   "metadata": {},
   "outputs": [
    {
     "data": {
      "text/plain": [
       "(891, 5)"
      ]
     },
     "execution_count": 867,
     "metadata": {},
     "output_type": "execute_result"
    }
   ],
   "source": [
    "df_subset.shape"
   ]
  },
  {
   "cell_type": "code",
   "execution_count": 868,
   "id": "49735482",
   "metadata": {},
   "outputs": [
    {
     "data": {
      "text/html": [
       "<div>\n",
       "<style scoped>\n",
       "    .dataframe tbody tr th:only-of-type {\n",
       "        vertical-align: middle;\n",
       "    }\n",
       "\n",
       "    .dataframe tbody tr th {\n",
       "        vertical-align: top;\n",
       "    }\n",
       "\n",
       "    .dataframe thead th {\n",
       "        text-align: right;\n",
       "    }\n",
       "</style>\n",
       "<table border=\"1\" class=\"dataframe\">\n",
       "  <thead>\n",
       "    <tr style=\"text-align: right;\">\n",
       "      <th></th>\n",
       "      <th>Pclass</th>\n",
       "      <th>Fare</th>\n",
       "      <th>Survived</th>\n",
       "      <th>SibSp</th>\n",
       "      <th>Parch</th>\n",
       "    </tr>\n",
       "  </thead>\n",
       "  <tbody>\n",
       "    <tr>\n",
       "      <th>count</th>\n",
       "      <td>891.000000</td>\n",
       "      <td>891.000000</td>\n",
       "      <td>891.000000</td>\n",
       "      <td>891.000000</td>\n",
       "      <td>891.000000</td>\n",
       "    </tr>\n",
       "    <tr>\n",
       "      <th>mean</th>\n",
       "      <td>2.308642</td>\n",
       "      <td>32.204208</td>\n",
       "      <td>0.383838</td>\n",
       "      <td>0.523008</td>\n",
       "      <td>0.381594</td>\n",
       "    </tr>\n",
       "    <tr>\n",
       "      <th>std</th>\n",
       "      <td>0.836071</td>\n",
       "      <td>49.693429</td>\n",
       "      <td>0.486592</td>\n",
       "      <td>1.102743</td>\n",
       "      <td>0.806057</td>\n",
       "    </tr>\n",
       "    <tr>\n",
       "      <th>min</th>\n",
       "      <td>1.000000</td>\n",
       "      <td>0.000000</td>\n",
       "      <td>0.000000</td>\n",
       "      <td>0.000000</td>\n",
       "      <td>0.000000</td>\n",
       "    </tr>\n",
       "    <tr>\n",
       "      <th>25%</th>\n",
       "      <td>2.000000</td>\n",
       "      <td>7.910400</td>\n",
       "      <td>0.000000</td>\n",
       "      <td>0.000000</td>\n",
       "      <td>0.000000</td>\n",
       "    </tr>\n",
       "    <tr>\n",
       "      <th>50%</th>\n",
       "      <td>3.000000</td>\n",
       "      <td>14.454200</td>\n",
       "      <td>0.000000</td>\n",
       "      <td>0.000000</td>\n",
       "      <td>0.000000</td>\n",
       "    </tr>\n",
       "    <tr>\n",
       "      <th>75%</th>\n",
       "      <td>3.000000</td>\n",
       "      <td>31.000000</td>\n",
       "      <td>1.000000</td>\n",
       "      <td>1.000000</td>\n",
       "      <td>0.000000</td>\n",
       "    </tr>\n",
       "    <tr>\n",
       "      <th>max</th>\n",
       "      <td>3.000000</td>\n",
       "      <td>512.329200</td>\n",
       "      <td>1.000000</td>\n",
       "      <td>8.000000</td>\n",
       "      <td>6.000000</td>\n",
       "    </tr>\n",
       "  </tbody>\n",
       "</table>\n",
       "</div>"
      ],
      "text/plain": [
       "           Pclass        Fare    Survived       SibSp       Parch\n",
       "count  891.000000  891.000000  891.000000  891.000000  891.000000\n",
       "mean     2.308642   32.204208    0.383838    0.523008    0.381594\n",
       "std      0.836071   49.693429    0.486592    1.102743    0.806057\n",
       "min      1.000000    0.000000    0.000000    0.000000    0.000000\n",
       "25%      2.000000    7.910400    0.000000    0.000000    0.000000\n",
       "50%      3.000000   14.454200    0.000000    0.000000    0.000000\n",
       "75%      3.000000   31.000000    1.000000    1.000000    0.000000\n",
       "max      3.000000  512.329200    1.000000    8.000000    6.000000"
      ]
     },
     "execution_count": 868,
     "metadata": {},
     "output_type": "execute_result"
    }
   ],
   "source": [
    "df_subset.describe()"
   ]
  },
  {
   "cell_type": "code",
   "execution_count": 869,
   "id": "409e0168",
   "metadata": {},
   "outputs": [
    {
     "name": "stdout",
     "output_type": "stream",
     "text": [
      "<class 'pandas.core.frame.DataFrame'>\n",
      "Int64Index: 891 entries, 1 to 891\n",
      "Data columns (total 5 columns):\n",
      " #   Column    Non-Null Count  Dtype  \n",
      "---  ------    --------------  -----  \n",
      " 0   Pclass    891 non-null    int64  \n",
      " 1   Fare      891 non-null    float64\n",
      " 2   Survived  891 non-null    int64  \n",
      " 3   SibSp     891 non-null    int64  \n",
      " 4   Parch     891 non-null    int64  \n",
      "dtypes: float64(1), int64(4)\n",
      "memory usage: 41.8 KB\n"
     ]
    }
   ],
   "source": [
    "df_subset.info()"
   ]
  },
  {
   "cell_type": "code",
   "execution_count": 870,
   "id": "1b310fc1",
   "metadata": {},
   "outputs": [
    {
     "data": {
      "text/plain": [
       "<AxesSubplot:>"
      ]
     },
     "execution_count": 870,
     "metadata": {},
     "output_type": "execute_result"
    },
    {
     "data": {
      "image/png": "[encoded data removed]",
      "text/plain": [
       "<Figure size 432x432 with 2 Axes>"
      ]
     },
     "metadata": {},
     "output_type": "display_data"
    }
   ],
   "source": [
    "fig, ax = plt.subplots(figsize=(6,6))\n",
    "sns.heatmap(ax=ax, data=df_subset.corr(), annot=True, linewidths=0.2)"
   ]
  },
  {
   "cell_type": "code",
   "execution_count": 871,
   "id": "bea67a03",
   "metadata": {},
   "outputs": [],
   "source": [
    "X_subset = df_subset[['Pclass', 'Fare','SibSp', 'Parch']]\n",
    "y_subset = df_subset['Survived']"
   ]
  },
  {
   "cell_type": "code",
   "execution_count": 872,
   "id": "80b4d478",
   "metadata": {},
   "outputs": [
    {
     "data": {
      "text/plain": [
       "((891, 4), (891,))"
      ]
     },
     "execution_count": 872,
     "metadata": {},
     "output_type": "execute_result"
    }
   ],
   "source": [
    "X_subset.shape, y_subset.shape"
   ]
  },
  {
   "cell_type": "markdown",
   "id": "5032ecd5",
   "metadata": {},
   "source": [
    "**3.2. Define the train-test-split for this subset**"
   ]
  },
  {
   "cell_type": "code",
   "execution_count": 873,
   "id": "e9b4fa28",
   "metadata": {},
   "outputs": [],
   "source": [
    "X_train, X_test, y_train, y_test = train_test_split(X_subset,y_subset, test_size = 0.2, random_state = 30)"
   ]
  },
  {
   "cell_type": "markdown",
   "id": "1a71d25c",
   "metadata": {},
   "source": [
    "**3.3 Define a baseline model**"
   ]
  },
  {
   "cell_type": "code",
   "execution_count": 874,
   "id": "01f19957",
   "metadata": {},
   "outputs": [],
   "source": [
    "dummy = DummyClassifier(strategy= 'most_frequent')"
   ]
  },
  {
   "cell_type": "code",
   "execution_count": 875,
   "id": "06cf65c1",
   "metadata": {},
   "outputs": [
    {
     "data": {
      "text/plain": [
       "DummyClassifier(strategy='most_frequent')"
      ]
     },
     "execution_count": 875,
     "metadata": {},
     "output_type": "execute_result"
    }
   ],
   "source": [
    "dummy.fit(X_train, y_train)"
   ]
  },
  {
   "cell_type": "code",
   "execution_count": 876,
   "id": "5aa939f7",
   "metadata": {},
   "outputs": [
    {
     "data": {
      "text/plain": [
       "0.6"
      ]
     },
     "execution_count": 876,
     "metadata": {},
     "output_type": "execute_result"
    }
   ],
   "source": [
    "round(dummy.score(X_test, y_test),2)"
   ]
  },
  {
   "cell_type": "markdown",
   "id": "395368a9",
   "metadata": {},
   "source": [
    "Okay, so 60% is what our dummy model can achieve, we should be able to do better than that right from the start."
   ]
  },
  {
   "cell_type": "markdown",
   "id": "3c6c7b54",
   "metadata": {},
   "source": [
    "**3.4 Run our own logistic regression**"
   ]
  },
  {
   "cell_type": "code",
   "execution_count": 877,
   "id": "e24160e5",
   "metadata": {},
   "outputs": [],
   "source": [
    "m_lr = LogisticRegression(class_weight='balanced')"
   ]
  },
  {
   "cell_type": "code",
   "execution_count": 878,
   "id": "3c6cd657",
   "metadata": {},
   "outputs": [
    {
     "data": {
      "text/plain": [
       "LogisticRegression(class_weight='balanced')"
      ]
     },
     "execution_count": 878,
     "metadata": {},
     "output_type": "execute_result"
    }
   ],
   "source": [
    "m_lr.fit(X_train, y_train)"
   ]
  },
  {
   "cell_type": "code",
   "execution_count": 879,
   "id": "42f7f325",
   "metadata": {},
   "outputs": [
    {
     "data": {
      "text/plain": [
       "(0.67, 0.67)"
      ]
     },
     "execution_count": 879,
     "metadata": {},
     "output_type": "execute_result"
    }
   ],
   "source": [
    "round(m_lr.score(X_train, y_train),2), round(m_lr.score(X_test, y_test),2)\n",
    "#well, maybe right now we cannot do much better!"
   ]
  },
  {
   "cell_type": "code",
   "execution_count": 880,
   "id": "aaa5459d",
   "metadata": {},
   "outputs": [
    {
     "data": {
      "text/plain": [
       "array([[0.49134883, 0.50865117],\n",
       "       [0.66502677, 0.33497323],\n",
       "       [0.58077396, 0.41922604],\n",
       "       ...,\n",
       "       [0.62926917, 0.37073083],\n",
       "       [0.66503556, 0.33496444],\n",
       "       [0.66499193, 0.33500807]])"
      ]
     },
     "execution_count": 880,
     "metadata": {},
     "output_type": "execute_result"
    }
   ],
   "source": [
    "m_lr.predict_proba(X_train)"
   ]
  },
  {
   "cell_type": "code",
   "execution_count": 881,
   "id": "9ceb0a62",
   "metadata": {},
   "outputs": [],
   "source": [
    "y_pred_test = m_lr.predict(X_test)\n",
    "y_pred_train = m_lr.predict(X_train)"
   ]
  },
  {
   "cell_type": "code",
   "execution_count": 882,
   "id": "816db09d",
   "metadata": {},
   "outputs": [
    {
     "data": {
      "text/plain": [
       "<sklearn.metrics._plot.confusion_matrix.ConfusionMatrixDisplay at 0x7fea26cd8130>"
      ]
     },
     "execution_count": 882,
     "metadata": {},
     "output_type": "execute_result"
    },
    {
     "data": {
      "image/png": "[encoded data removed]",
      "text/plain": [
       "<Figure size 432x288 with 2 Axes>"
      ]
     },
     "metadata": {},
     "output_type": "display_data"
    }
   ],
   "source": [
    "ConfusionMatrixDisplay.from_predictions(y_train, y_pred_train, normalize=None)"
   ]
  },
  {
   "cell_type": "code",
   "execution_count": 883,
   "id": "c3cc1624",
   "metadata": {},
   "outputs": [
    {
     "data": {
      "text/plain": [
       "<sklearn.metrics._plot.confusion_matrix.ConfusionMatrixDisplay at 0x7fea0248ddf0>"
      ]
     },
     "execution_count": 883,
     "metadata": {},
     "output_type": "execute_result"
    },
    {
     "data": {
      "image/png": "[encoded data removed]",
      "text/plain": [
       "<Figure size 432x288 with 2 Axes>"
      ]
     },
     "metadata": {},
     "output_type": "display_data"
    }
   ],
   "source": [
    "ConfusionMatrixDisplay.from_predictions(y_test, y_pred_test, normalize=None)"
   ]
  },
  {
   "cell_type": "code",
   "execution_count": 884,
   "id": "de257e38",
   "metadata": {},
   "outputs": [
    {
     "name": "stderr",
     "output_type": "stream",
     "text": [
      "/Users/finngebauer/opt/anaconda3/lib/python3.9/site-packages/sklearn/utils/deprecation.py:87: FutureWarning: Function plot_roc_curve is deprecated; Function :func:`plot_roc_curve` is deprecated in 1.0 and will be removed in 1.2. Use one of the class methods: :meth:`sklearn.metric.RocCurveDisplay.from_predictions` or :meth:`sklearn.metric.RocCurveDisplay.from_estimator`.\n",
      "  warnings.warn(msg, category=FutureWarning)\n"
     ]
    },
    {
     "data": {
      "image/png": "[encoded data removed]",
      "text/plain": [
       "<Figure size 432x288 with 1 Axes>"
      ]
     },
     "metadata": {},
     "output_type": "display_data"
    }
   ],
   "source": [
    "plot_roc_curve(m_lr, X_subset, y_subset);"
   ]
  },
  {
   "cell_type": "markdown",
   "id": "3aa73783",
   "metadata": {},
   "source": [
    "This really is not looking too great with the low-ish AUC and the high number of FP and FN. We definitely need to work on the data to get better results."
   ]
  },
  {
   "cell_type": "markdown",
   "id": "74da51ef",
   "metadata": {},
   "source": [
    "## 4. Train/test split"
   ]
  },
  {
   "cell_type": "markdown",
   "id": "eb62fada",
   "metadata": {},
   "source": [
    "Before we wrangle with the data, we split the data set to avoid data leakage"
   ]
  },
  {
   "cell_type": "code",
   "execution_count": 885,
   "id": "0ba861a7",
   "metadata": {},
   "outputs": [
    {
     "data": {
      "text/plain": [
       "['Survived',\n",
       " 'Pclass',\n",
       " 'Name',\n",
       " 'Sex',\n",
       " 'Age',\n",
       " 'SibSp',\n",
       " 'Parch',\n",
       " 'Ticket',\n",
       " 'Fare',\n",
       " 'Cabin',\n",
       " 'Embarked']"
      ]
     },
     "execution_count": 885,
     "metadata": {},
     "output_type": "execute_result"
    }
   ],
   "source": [
    "list(df.columns)"
   ]
  },
  {
   "cell_type": "code",
   "execution_count": 886,
   "id": "8aa1f244",
   "metadata": {},
   "outputs": [
    {
     "data": {
      "text/plain": [
       "((891, 10), (891,))"
      ]
     },
     "execution_count": 886,
     "metadata": {},
     "output_type": "execute_result"
    }
   ],
   "source": [
    "X=df[['Pclass',\n",
    "     'Name',\n",
    "     'Sex',\n",
    "     'Age',\n",
    "     'SibSp',\n",
    "     'Parch',\n",
    "     'Ticket',\n",
    "     'Fare',\n",
    "     'Cabin',\n",
    "     'Embarked']]\n",
    "y=df['Survived']\n",
    "X.shape, y.shape"
   ]
  },
  {
   "cell_type": "code",
   "execution_count": 887,
   "id": "01efab61",
   "metadata": {},
   "outputs": [],
   "source": [
    "X_train, X_test, y_train, y_test = train_test_split(X,y, test_size = 0.2, random_state = 30)"
   ]
  },
  {
   "cell_type": "markdown",
   "id": "a732b687",
   "metadata": {},
   "source": [
    "## 5. Feature engineering"
   ]
  },
  {
   "cell_type": "markdown",
   "id": "83da0f7f",
   "metadata": {},
   "source": [
    "**5.1 Replace missing values**"
   ]
  },
  {
   "cell_type": "code",
   "execution_count": 888,
   "id": "f06d30af",
   "metadata": {},
   "outputs": [
    {
     "data": {
      "text/html": [
       "<div>\n",
       "<style scoped>\n",
       "    .dataframe tbody tr th:only-of-type {\n",
       "        vertical-align: middle;\n",
       "    }\n",
       "\n",
       "    .dataframe tbody tr th {\n",
       "        vertical-align: top;\n",
       "    }\n",
       "\n",
       "    .dataframe thead th {\n",
       "        text-align: right;\n",
       "    }\n",
       "</style>\n",
       "<table border=\"1\" class=\"dataframe\">\n",
       "  <thead>\n",
       "    <tr style=\"text-align: right;\">\n",
       "      <th></th>\n",
       "      <th>Pclass</th>\n",
       "      <th>Name</th>\n",
       "      <th>Sex</th>\n",
       "      <th>Age</th>\n",
       "      <th>SibSp</th>\n",
       "      <th>Parch</th>\n",
       "      <th>Ticket</th>\n",
       "      <th>Fare</th>\n",
       "      <th>Cabin</th>\n",
       "      <th>Embarked</th>\n",
       "    </tr>\n",
       "    <tr>\n",
       "      <th>PassengerId</th>\n",
       "      <th></th>\n",
       "      <th></th>\n",
       "      <th></th>\n",
       "      <th></th>\n",
       "      <th></th>\n",
       "      <th></th>\n",
       "      <th></th>\n",
       "      <th></th>\n",
       "      <th></th>\n",
       "      <th></th>\n",
       "    </tr>\n",
       "  </thead>\n",
       "  <tbody>\n",
       "    <tr>\n",
       "      <th>141</th>\n",
       "      <td>3</td>\n",
       "      <td>Boulos, Mrs. Joseph (Sultana)</td>\n",
       "      <td>female</td>\n",
       "      <td>21.0</td>\n",
       "      <td>0</td>\n",
       "      <td>2</td>\n",
       "      <td>2678</td>\n",
       "      <td>15.2458</td>\n",
       "      <td>NaN</td>\n",
       "      <td>C</td>\n",
       "    </tr>\n",
       "    <tr>\n",
       "      <th>501</th>\n",
       "      <td>3</td>\n",
       "      <td>Calic, Mr. Petar</td>\n",
       "      <td>male</td>\n",
       "      <td>17.0</td>\n",
       "      <td>0</td>\n",
       "      <td>0</td>\n",
       "      <td>315086</td>\n",
       "      <td>8.6625</td>\n",
       "      <td>NaN</td>\n",
       "      <td>S</td>\n",
       "    </tr>\n",
       "    <tr>\n",
       "      <th>814</th>\n",
       "      <td>3</td>\n",
       "      <td>Andersson, Miss. Ebba Iris Alfrida</td>\n",
       "      <td>female</td>\n",
       "      <td>6.0</td>\n",
       "      <td>4</td>\n",
       "      <td>2</td>\n",
       "      <td>347082</td>\n",
       "      <td>31.2750</td>\n",
       "      <td>NaN</td>\n",
       "      <td>S</td>\n",
       "    </tr>\n",
       "    <tr>\n",
       "      <th>422</th>\n",
       "      <td>3</td>\n",
       "      <td>Charters, Mr. David</td>\n",
       "      <td>male</td>\n",
       "      <td>21.0</td>\n",
       "      <td>0</td>\n",
       "      <td>0</td>\n",
       "      <td>A/5. 13032</td>\n",
       "      <td>7.7333</td>\n",
       "      <td>NaN</td>\n",
       "      <td>Q</td>\n",
       "    </tr>\n",
       "    <tr>\n",
       "      <th>806</th>\n",
       "      <td>3</td>\n",
       "      <td>Johansson, Mr. Karl Johan</td>\n",
       "      <td>male</td>\n",
       "      <td>31.0</td>\n",
       "      <td>0</td>\n",
       "      <td>0</td>\n",
       "      <td>347063</td>\n",
       "      <td>7.7750</td>\n",
       "      <td>NaN</td>\n",
       "      <td>S</td>\n",
       "    </tr>\n",
       "  </tbody>\n",
       "</table>\n",
       "</div>"
      ],
      "text/plain": [
       "             Pclass                                Name     Sex   Age  SibSp  \\\n",
       "PassengerId                                                                    \n",
       "141               3       Boulos, Mrs. Joseph (Sultana)  female  21.0      0   \n",
       "501               3                    Calic, Mr. Petar    male  17.0      0   \n",
       "814               3  Andersson, Miss. Ebba Iris Alfrida  female   6.0      4   \n",
       "422               3                 Charters, Mr. David    male  21.0      0   \n",
       "806               3           Johansson, Mr. Karl Johan    male  31.0      0   \n",
       "\n",
       "             Parch      Ticket     Fare Cabin Embarked  \n",
       "PassengerId                                             \n",
       "141              2        2678  15.2458   NaN        C  \n",
       "501              0      315086   8.6625   NaN        S  \n",
       "814              2      347082  31.2750   NaN        S  \n",
       "422              0  A/5. 13032   7.7333   NaN        Q  \n",
       "806              0      347063   7.7750   NaN        S  "
      ]
     },
     "execution_count": 888,
     "metadata": {},
     "output_type": "execute_result"
    }
   ],
   "source": [
    "X_train['Age'].fillna(X_train.groupby(['Pclass', 'Sex'])['Age'].transform('mean').round(0), inplace=True)\n",
    "\n",
    "X_test['Age'].fillna(X_test.groupby(['Pclass', 'Sex'])['Age'].transform('mean').round(0), inplace=True)\n",
    "\n",
    "X_train.tail()"
   ]
  },
  {
   "cell_type": "code",
   "execution_count": 889,
   "id": "2024a01f",
   "metadata": {},
   "outputs": [
    {
     "data": {
      "text/html": [
       "<div>\n",
       "<style scoped>\n",
       "    .dataframe tbody tr th:only-of-type {\n",
       "        vertical-align: middle;\n",
       "    }\n",
       "\n",
       "    .dataframe tbody tr th {\n",
       "        vertical-align: top;\n",
       "    }\n",
       "\n",
       "    .dataframe thead th {\n",
       "        text-align: right;\n",
       "    }\n",
       "</style>\n",
       "<table border=\"1\" class=\"dataframe\">\n",
       "  <thead>\n",
       "    <tr style=\"text-align: right;\">\n",
       "      <th></th>\n",
       "      <th>Pclass</th>\n",
       "      <th>Name</th>\n",
       "      <th>Sex</th>\n",
       "      <th>Age</th>\n",
       "      <th>SibSp</th>\n",
       "      <th>Parch</th>\n",
       "      <th>Ticket</th>\n",
       "      <th>Fare</th>\n",
       "      <th>Cabin</th>\n",
       "      <th>Embarked</th>\n",
       "    </tr>\n",
       "    <tr>\n",
       "      <th>PassengerId</th>\n",
       "      <th></th>\n",
       "      <th></th>\n",
       "      <th></th>\n",
       "      <th></th>\n",
       "      <th></th>\n",
       "      <th></th>\n",
       "      <th></th>\n",
       "      <th></th>\n",
       "      <th></th>\n",
       "      <th></th>\n",
       "    </tr>\n",
       "  </thead>\n",
       "  <tbody>\n",
       "    <tr>\n",
       "      <th>200</th>\n",
       "      <td>2</td>\n",
       "      <td>Yrois, Miss. Henriette (\"Mrs Harbeck\")</td>\n",
       "      <td>female</td>\n",
       "      <td>24.0</td>\n",
       "      <td>0</td>\n",
       "      <td>0</td>\n",
       "      <td>248747</td>\n",
       "      <td>13.0000</td>\n",
       "      <td>NaN</td>\n",
       "      <td>S</td>\n",
       "    </tr>\n",
       "    <tr>\n",
       "      <th>704</th>\n",
       "      <td>3</td>\n",
       "      <td>Gallagher, Mr. Martin</td>\n",
       "      <td>male</td>\n",
       "      <td>25.0</td>\n",
       "      <td>0</td>\n",
       "      <td>0</td>\n",
       "      <td>36864</td>\n",
       "      <td>7.7417</td>\n",
       "      <td>NaN</td>\n",
       "      <td>Q</td>\n",
       "    </tr>\n",
       "    <tr>\n",
       "      <th>824</th>\n",
       "      <td>3</td>\n",
       "      <td>Moor, Mrs. (Beila)</td>\n",
       "      <td>female</td>\n",
       "      <td>27.0</td>\n",
       "      <td>0</td>\n",
       "      <td>1</td>\n",
       "      <td>392096</td>\n",
       "      <td>12.4750</td>\n",
       "      <td>E121</td>\n",
       "      <td>S</td>\n",
       "    </tr>\n",
       "    <tr>\n",
       "      <th>237</th>\n",
       "      <td>2</td>\n",
       "      <td>Hold, Mr. Stephen</td>\n",
       "      <td>male</td>\n",
       "      <td>44.0</td>\n",
       "      <td>1</td>\n",
       "      <td>0</td>\n",
       "      <td>26707</td>\n",
       "      <td>26.0000</td>\n",
       "      <td>NaN</td>\n",
       "      <td>S</td>\n",
       "    </tr>\n",
       "    <tr>\n",
       "      <th>680</th>\n",
       "      <td>1</td>\n",
       "      <td>Cardeza, Mr. Thomas Drake Martinez</td>\n",
       "      <td>male</td>\n",
       "      <td>36.0</td>\n",
       "      <td>0</td>\n",
       "      <td>1</td>\n",
       "      <td>PC 17755</td>\n",
       "      <td>512.3292</td>\n",
       "      <td>B51 B53 B55</td>\n",
       "      <td>C</td>\n",
       "    </tr>\n",
       "  </tbody>\n",
       "</table>\n",
       "</div>"
      ],
      "text/plain": [
       "             Pclass                                    Name     Sex   Age  \\\n",
       "PassengerId                                                                 \n",
       "200               2  Yrois, Miss. Henriette (\"Mrs Harbeck\")  female  24.0   \n",
       "704               3                   Gallagher, Mr. Martin    male  25.0   \n",
       "824               3                      Moor, Mrs. (Beila)  female  27.0   \n",
       "237               2                       Hold, Mr. Stephen    male  44.0   \n",
       "680               1      Cardeza, Mr. Thomas Drake Martinez    male  36.0   \n",
       "\n",
       "             SibSp  Parch    Ticket      Fare        Cabin Embarked  \n",
       "PassengerId                                                          \n",
       "200              0      0    248747   13.0000          NaN        S  \n",
       "704              0      0     36864    7.7417          NaN        Q  \n",
       "824              0      1    392096   12.4750         E121        S  \n",
       "237              1      0     26707   26.0000          NaN        S  \n",
       "680              0      1  PC 17755  512.3292  B51 B53 B55        C  "
      ]
     },
     "execution_count": 889,
     "metadata": {},
     "output_type": "execute_result"
    }
   ],
   "source": [
    "imputer = SimpleImputer(strategy='most_frequent')\n",
    "imputer.fit(X_train[['Embarked']])        \n",
    "X_train['Embarked'] = imputer.transform(X_train[['Embarked']])\n",
    "\n",
    "X_test['Embarked'] = imputer.transform(X_test[['Embarked']])\n",
    "\n",
    "X_train.head()"
   ]
  },
  {
   "cell_type": "code",
   "execution_count": 890,
   "id": "ceacfd03",
   "metadata": {},
   "outputs": [
    {
     "data": {
      "text/plain": [
       "Pclass        0\n",
       "Name          0\n",
       "Sex           0\n",
       "Age           0\n",
       "SibSp         0\n",
       "Parch         0\n",
       "Ticket        0\n",
       "Fare          0\n",
       "Cabin       553\n",
       "Embarked      0\n",
       "dtype: int64"
      ]
     },
     "execution_count": 890,
     "metadata": {},
     "output_type": "execute_result"
    }
   ],
   "source": [
    "X_train.isna().sum()\n",
    "#Only Cabin values are left and we cannot really fill them. What if we used them in another way? Check 5.3 if you're curious!"
   ]
  },
  {
   "cell_type": "markdown",
   "id": "22ea9614",
   "metadata": {},
   "source": [
    "**5.2 Binning and merging**"
   ]
  },
  {
   "cell_type": "code",
   "execution_count": 891,
   "id": "140e06b1",
   "metadata": {},
   "outputs": [
    {
     "data": {
      "text/plain": [
       "young adult    399\n",
       "adult          160\n",
       "minor          140\n",
       "elder           13\n",
       "Name: Age_bins, dtype: int64"
      ]
     },
     "execution_count": 891,
     "metadata": {},
     "output_type": "execute_result"
    }
   ],
   "source": [
    "X_train['Age_bins'] = pd.cut(X_train.Age, bins=[0,19,36,61,81], labels = ['minor', 'young adult', 'adult', 'elder'])\n",
    "\n",
    "X_test['Age_bins'] = pd.cut(X_test.Age, bins=[0,19,36,61,81], labels = ['minor', 'young adult', 'adult', 'elder'])\n",
    "\n",
    "X_train.Age_bins.value_counts()"
   ]
  },
  {
   "cell_type": "code",
   "execution_count": 892,
   "id": "4df17b57",
   "metadata": {},
   "outputs": [
    {
     "data": {
      "text/plain": [
       "cheap       353\n",
       "economy     223\n",
       "business     82\n",
       "high-end     44\n",
       "Name: Fare_bins, dtype: int64"
      ]
     },
     "execution_count": 892,
     "metadata": {},
     "output_type": "execute_result"
    }
   ],
   "source": [
    "X_train['Fare_bins'] = pd.cut(X_train.Fare, bins=[0, 15, 50, 100, 550], \n",
    "                              labels=['cheap', 'economy', 'business', 'high-end'])\n",
    "\n",
    "X_test['Fare_bins'] = pd.cut(X_test.Fare, bins=[0, 15, 50, 100, 550], \n",
    "                              labels=['cheap', 'economy', 'business', 'high-end'])\n",
    "\n",
    "X_train.Fare_bins.value_counts()"
   ]
  },
  {
   "cell_type": "markdown",
   "id": "3437734a",
   "metadata": {},
   "source": [
    "As we cannot differentiate between parent/children and sibling/spouse, we can merge these columns to have a family column"
   ]
  },
  {
   "cell_type": "code",
   "execution_count": 893,
   "id": "adefaabd",
   "metadata": {},
   "outputs": [],
   "source": [
    "X_train['Family'] = X_train.SibSp + X_train.Parch\n",
    "X_test['Family'] = X_test.SibSp + X_test.Parch"
   ]
  },
  {
   "cell_type": "code",
   "execution_count": 894,
   "id": "fed7b7b6",
   "metadata": {},
   "outputs": [
    {
     "data": {
      "text/plain": [
       "10"
      ]
     },
     "execution_count": 894,
     "metadata": {},
     "output_type": "execute_result"
    }
   ],
   "source": [
    "X_train.Family.max()"
   ]
  },
  {
   "cell_type": "code",
   "execution_count": 895,
   "id": "8c4b55c7",
   "metadata": {},
   "outputs": [],
   "source": [
    "X_train.drop(['SibSp', 'Parch'], axis=1, inplace=True)\n",
    "X_test.drop(['SibSp', 'Parch'], axis=1, inplace=True)"
   ]
  },
  {
   "cell_type": "code",
   "execution_count": 896,
   "id": "9393c595",
   "metadata": {},
   "outputs": [
    {
     "data": {
      "text/plain": [
       "PassengerId\n",
       "200       No family\n",
       "704       No family\n",
       "824    Small family\n",
       "237    Small family\n",
       "680    Small family\n",
       "           ...     \n",
       "141    Small family\n",
       "501       No family\n",
       "814      Big family\n",
       "422       No family\n",
       "806       No family\n",
       "Name: Family_size, Length: 712, dtype: object"
      ]
     },
     "execution_count": 896,
     "metadata": {},
     "output_type": "execute_result"
    }
   ],
   "source": [
    "#And let's make bins for no, small and big families\n",
    "\n",
    "X_train['Family_size'] = pd.cut(X_train.Family, bins=[0,0.5,3,11], labels=['No family', 'Small family', 'Big family'])\n",
    "X_train['Family_size'] = np.where(X_train.Family_size.isnull(), 'No family', X_train.Family_size)\n",
    "\n",
    "X_test['Family_size'] = pd.cut(X_test.Family, bins=[0,0.5,3,11], labels=['No family', 'Small family', 'Big family'])\n",
    "X_test['Family_size'] = np.where(X_test.Family_size.isnull(), 'No family', X_test.Family_size)\n",
    "\n",
    "X_train.Family_size"
   ]
  },
  {
   "cell_type": "markdown",
   "id": "f3236886",
   "metadata": {},
   "source": [
    "**5.3 make a binary out of the cabin values**"
   ]
  },
  {
   "cell_type": "code",
   "execution_count": 897,
   "id": "73d45419",
   "metadata": {},
   "outputs": [],
   "source": [
    "X_train['Cabin_status'] = np.where(X_train.Cabin.isnull(), 0, 1)\n",
    "\n",
    "X_test['Cabin_status'] = np.where(X_test.Cabin.isnull(), 0, 1)\n",
    "#While cabin location might matter, we don't know about it and thus stick with the ibinary"
   ]
  },
  {
   "cell_type": "code",
   "execution_count": 898,
   "id": "c0fa3046",
   "metadata": {
    "scrolled": false
   },
   "outputs": [
    {
     "data": {
      "text/html": [
       "<div>\n",
       "<style scoped>\n",
       "    .dataframe tbody tr th:only-of-type {\n",
       "        vertical-align: middle;\n",
       "    }\n",
       "\n",
       "    .dataframe tbody tr th {\n",
       "        vertical-align: top;\n",
       "    }\n",
       "\n",
       "    .dataframe thead th {\n",
       "        text-align: right;\n",
       "    }\n",
       "</style>\n",
       "<table border=\"1\" class=\"dataframe\">\n",
       "  <thead>\n",
       "    <tr style=\"text-align: right;\">\n",
       "      <th>Fare_bins</th>\n",
       "      <th>cheap</th>\n",
       "      <th>economy</th>\n",
       "      <th>business</th>\n",
       "      <th>high-end</th>\n",
       "    </tr>\n",
       "    <tr>\n",
       "      <th>Cabin_status</th>\n",
       "      <th></th>\n",
       "      <th></th>\n",
       "      <th></th>\n",
       "      <th></th>\n",
       "    </tr>\n",
       "  </thead>\n",
       "  <tbody>\n",
       "    <tr>\n",
       "      <th>0</th>\n",
       "      <td>333</td>\n",
       "      <td>180</td>\n",
       "      <td>23</td>\n",
       "      <td>8</td>\n",
       "    </tr>\n",
       "    <tr>\n",
       "      <th>1</th>\n",
       "      <td>20</td>\n",
       "      <td>43</td>\n",
       "      <td>59</td>\n",
       "      <td>36</td>\n",
       "    </tr>\n",
       "  </tbody>\n",
       "</table>\n",
       "</div>"
      ],
      "text/plain": [
       "Fare_bins     cheap  economy  business  high-end\n",
       "Cabin_status                                    \n",
       "0               333      180        23         8\n",
       "1                20       43        59        36"
      ]
     },
     "execution_count": 898,
     "metadata": {},
     "output_type": "execute_result"
    }
   ],
   "source": [
    "pd.crosstab(X_train.Cabin_status, X_train.Fare_bins)"
   ]
  },
  {
   "cell_type": "code",
   "execution_count": 899,
   "id": "b5e12a1d",
   "metadata": {},
   "outputs": [
    {
     "data": {
      "text/html": [
       "<div>\n",
       "<style scoped>\n",
       "    .dataframe tbody tr th:only-of-type {\n",
       "        vertical-align: middle;\n",
       "    }\n",
       "\n",
       "    .dataframe tbody tr th {\n",
       "        vertical-align: top;\n",
       "    }\n",
       "\n",
       "    .dataframe thead th {\n",
       "        text-align: right;\n",
       "    }\n",
       "</style>\n",
       "<table border=\"1\" class=\"dataframe\">\n",
       "  <thead>\n",
       "    <tr style=\"text-align: right;\">\n",
       "      <th></th>\n",
       "      <th>Pclass</th>\n",
       "      <th>Name</th>\n",
       "      <th>Sex</th>\n",
       "      <th>Age</th>\n",
       "      <th>Ticket</th>\n",
       "      <th>Fare</th>\n",
       "      <th>Cabin</th>\n",
       "      <th>Embarked</th>\n",
       "      <th>Age_bins</th>\n",
       "      <th>Fare_bins</th>\n",
       "      <th>Family</th>\n",
       "      <th>Family_size</th>\n",
       "      <th>Cabin_status</th>\n",
       "    </tr>\n",
       "    <tr>\n",
       "      <th>PassengerId</th>\n",
       "      <th></th>\n",
       "      <th></th>\n",
       "      <th></th>\n",
       "      <th></th>\n",
       "      <th></th>\n",
       "      <th></th>\n",
       "      <th></th>\n",
       "      <th></th>\n",
       "      <th></th>\n",
       "      <th></th>\n",
       "      <th></th>\n",
       "      <th></th>\n",
       "      <th></th>\n",
       "    </tr>\n",
       "  </thead>\n",
       "  <tbody>\n",
       "    <tr>\n",
       "      <th>200</th>\n",
       "      <td>2</td>\n",
       "      <td>Yrois, Miss. Henriette (\"Mrs Harbeck\")</td>\n",
       "      <td>female</td>\n",
       "      <td>24.0</td>\n",
       "      <td>248747</td>\n",
       "      <td>13.0000</td>\n",
       "      <td>NaN</td>\n",
       "      <td>S</td>\n",
       "      <td>young adult</td>\n",
       "      <td>cheap</td>\n",
       "      <td>0</td>\n",
       "      <td>No family</td>\n",
       "      <td>0</td>\n",
       "    </tr>\n",
       "    <tr>\n",
       "      <th>704</th>\n",
       "      <td>3</td>\n",
       "      <td>Gallagher, Mr. Martin</td>\n",
       "      <td>male</td>\n",
       "      <td>25.0</td>\n",
       "      <td>36864</td>\n",
       "      <td>7.7417</td>\n",
       "      <td>NaN</td>\n",
       "      <td>Q</td>\n",
       "      <td>young adult</td>\n",
       "      <td>cheap</td>\n",
       "      <td>0</td>\n",
       "      <td>No family</td>\n",
       "      <td>0</td>\n",
       "    </tr>\n",
       "    <tr>\n",
       "      <th>824</th>\n",
       "      <td>3</td>\n",
       "      <td>Moor, Mrs. (Beila)</td>\n",
       "      <td>female</td>\n",
       "      <td>27.0</td>\n",
       "      <td>392096</td>\n",
       "      <td>12.4750</td>\n",
       "      <td>E121</td>\n",
       "      <td>S</td>\n",
       "      <td>young adult</td>\n",
       "      <td>cheap</td>\n",
       "      <td>1</td>\n",
       "      <td>Small family</td>\n",
       "      <td>1</td>\n",
       "    </tr>\n",
       "    <tr>\n",
       "      <th>237</th>\n",
       "      <td>2</td>\n",
       "      <td>Hold, Mr. Stephen</td>\n",
       "      <td>male</td>\n",
       "      <td>44.0</td>\n",
       "      <td>26707</td>\n",
       "      <td>26.0000</td>\n",
       "      <td>NaN</td>\n",
       "      <td>S</td>\n",
       "      <td>adult</td>\n",
       "      <td>economy</td>\n",
       "      <td>1</td>\n",
       "      <td>Small family</td>\n",
       "      <td>0</td>\n",
       "    </tr>\n",
       "    <tr>\n",
       "      <th>680</th>\n",
       "      <td>1</td>\n",
       "      <td>Cardeza, Mr. Thomas Drake Martinez</td>\n",
       "      <td>male</td>\n",
       "      <td>36.0</td>\n",
       "      <td>PC 17755</td>\n",
       "      <td>512.3292</td>\n",
       "      <td>B51 B53 B55</td>\n",
       "      <td>C</td>\n",
       "      <td>young adult</td>\n",
       "      <td>high-end</td>\n",
       "      <td>1</td>\n",
       "      <td>Small family</td>\n",
       "      <td>1</td>\n",
       "    </tr>\n",
       "  </tbody>\n",
       "</table>\n",
       "</div>"
      ],
      "text/plain": [
       "             Pclass                                    Name     Sex   Age  \\\n",
       "PassengerId                                                                 \n",
       "200               2  Yrois, Miss. Henriette (\"Mrs Harbeck\")  female  24.0   \n",
       "704               3                   Gallagher, Mr. Martin    male  25.0   \n",
       "824               3                      Moor, Mrs. (Beila)  female  27.0   \n",
       "237               2                       Hold, Mr. Stephen    male  44.0   \n",
       "680               1      Cardeza, Mr. Thomas Drake Martinez    male  36.0   \n",
       "\n",
       "               Ticket      Fare        Cabin Embarked     Age_bins Fare_bins  \\\n",
       "PassengerId                                                                    \n",
       "200            248747   13.0000          NaN        S  young adult     cheap   \n",
       "704             36864    7.7417          NaN        Q  young adult     cheap   \n",
       "824            392096   12.4750         E121        S  young adult     cheap   \n",
       "237             26707   26.0000          NaN        S        adult   economy   \n",
       "680          PC 17755  512.3292  B51 B53 B55        C  young adult  high-end   \n",
       "\n",
       "             Family   Family_size  Cabin_status  \n",
       "PassengerId                                      \n",
       "200               0     No family             0  \n",
       "704               0     No family             0  \n",
       "824               1  Small family             1  \n",
       "237               1  Small family             0  \n",
       "680               1  Small family             1  "
      ]
     },
     "execution_count": 899,
     "metadata": {},
     "output_type": "execute_result"
    }
   ],
   "source": [
    "X_train.head()"
   ]
  },
  {
   "cell_type": "markdown",
   "id": "b3b7f01f",
   "metadata": {},
   "source": [
    "**5.4 Encode categorical values and drop unnecessary ones**"
   ]
  },
  {
   "cell_type": "code",
   "execution_count": 900,
   "id": "7869d543",
   "metadata": {},
   "outputs": [],
   "source": [
    "X_train = X_train.join(pd.get_dummies\n",
    "                       (X_train[['Sex', 'Embarked', 'Age_bins', 'Fare_bins', 'Family_size']], drop_first = True))\n",
    "\n",
    "X_test = X_test.join(pd.get_dummies\n",
    "                       (X_test[['Sex', 'Embarked', 'Age_bins', 'Fare_bins', 'Family_size']], drop_first = True))"
   ]
  },
  {
   "cell_type": "code",
   "execution_count": 901,
   "id": "ea34c007",
   "metadata": {},
   "outputs": [
    {
     "data": {
      "text/html": [
       "<div>\n",
       "<style scoped>\n",
       "    .dataframe tbody tr th:only-of-type {\n",
       "        vertical-align: middle;\n",
       "    }\n",
       "\n",
       "    .dataframe tbody tr th {\n",
       "        vertical-align: top;\n",
       "    }\n",
       "\n",
       "    .dataframe thead th {\n",
       "        text-align: right;\n",
       "    }\n",
       "</style>\n",
       "<table border=\"1\" class=\"dataframe\">\n",
       "  <thead>\n",
       "    <tr style=\"text-align: right;\">\n",
       "      <th></th>\n",
       "      <th>Pclass</th>\n",
       "      <th>Name</th>\n",
       "      <th>Sex</th>\n",
       "      <th>Age</th>\n",
       "      <th>Ticket</th>\n",
       "      <th>Fare</th>\n",
       "      <th>Cabin</th>\n",
       "      <th>Embarked</th>\n",
       "      <th>Age_bins</th>\n",
       "      <th>Fare_bins</th>\n",
       "      <th>...</th>\n",
       "      <th>Embarked_Q</th>\n",
       "      <th>Embarked_S</th>\n",
       "      <th>Age_bins_young adult</th>\n",
       "      <th>Age_bins_adult</th>\n",
       "      <th>Age_bins_elder</th>\n",
       "      <th>Fare_bins_economy</th>\n",
       "      <th>Fare_bins_business</th>\n",
       "      <th>Fare_bins_high-end</th>\n",
       "      <th>Family_size_No family</th>\n",
       "      <th>Family_size_Small family</th>\n",
       "    </tr>\n",
       "    <tr>\n",
       "      <th>PassengerId</th>\n",
       "      <th></th>\n",
       "      <th></th>\n",
       "      <th></th>\n",
       "      <th></th>\n",
       "      <th></th>\n",
       "      <th></th>\n",
       "      <th></th>\n",
       "      <th></th>\n",
       "      <th></th>\n",
       "      <th></th>\n",
       "      <th></th>\n",
       "      <th></th>\n",
       "      <th></th>\n",
       "      <th></th>\n",
       "      <th></th>\n",
       "      <th></th>\n",
       "      <th></th>\n",
       "      <th></th>\n",
       "      <th></th>\n",
       "      <th></th>\n",
       "      <th></th>\n",
       "    </tr>\n",
       "  </thead>\n",
       "  <tbody>\n",
       "    <tr>\n",
       "      <th>200</th>\n",
       "      <td>2</td>\n",
       "      <td>Yrois, Miss. Henriette (\"Mrs Harbeck\")</td>\n",
       "      <td>female</td>\n",
       "      <td>24.0</td>\n",
       "      <td>248747</td>\n",
       "      <td>13.0000</td>\n",
       "      <td>NaN</td>\n",
       "      <td>S</td>\n",
       "      <td>young adult</td>\n",
       "      <td>cheap</td>\n",
       "      <td>...</td>\n",
       "      <td>0</td>\n",
       "      <td>1</td>\n",
       "      <td>1</td>\n",
       "      <td>0</td>\n",
       "      <td>0</td>\n",
       "      <td>0</td>\n",
       "      <td>0</td>\n",
       "      <td>0</td>\n",
       "      <td>1</td>\n",
       "      <td>0</td>\n",
       "    </tr>\n",
       "    <tr>\n",
       "      <th>704</th>\n",
       "      <td>3</td>\n",
       "      <td>Gallagher, Mr. Martin</td>\n",
       "      <td>male</td>\n",
       "      <td>25.0</td>\n",
       "      <td>36864</td>\n",
       "      <td>7.7417</td>\n",
       "      <td>NaN</td>\n",
       "      <td>Q</td>\n",
       "      <td>young adult</td>\n",
       "      <td>cheap</td>\n",
       "      <td>...</td>\n",
       "      <td>1</td>\n",
       "      <td>0</td>\n",
       "      <td>1</td>\n",
       "      <td>0</td>\n",
       "      <td>0</td>\n",
       "      <td>0</td>\n",
       "      <td>0</td>\n",
       "      <td>0</td>\n",
       "      <td>1</td>\n",
       "      <td>0</td>\n",
       "    </tr>\n",
       "  </tbody>\n",
       "</table>\n",
       "<p>2 rows × 24 columns</p>\n",
       "</div>"
      ],
      "text/plain": [
       "             Pclass                                    Name     Sex   Age  \\\n",
       "PassengerId                                                                 \n",
       "200               2  Yrois, Miss. Henriette (\"Mrs Harbeck\")  female  24.0   \n",
       "704               3                   Gallagher, Mr. Martin    male  25.0   \n",
       "\n",
       "             Ticket     Fare Cabin Embarked     Age_bins Fare_bins  ...  \\\n",
       "PassengerId                                                         ...   \n",
       "200          248747  13.0000   NaN        S  young adult     cheap  ...   \n",
       "704           36864   7.7417   NaN        Q  young adult     cheap  ...   \n",
       "\n",
       "             Embarked_Q Embarked_S  Age_bins_young adult  Age_bins_adult  \\\n",
       "PassengerId                                                                \n",
       "200                   0          1                     1               0   \n",
       "704                   1          0                     1               0   \n",
       "\n",
       "             Age_bins_elder  Fare_bins_economy  Fare_bins_business  \\\n",
       "PassengerId                                                          \n",
       "200                       0                  0                   0   \n",
       "704                       0                  0                   0   \n",
       "\n",
       "             Fare_bins_high-end  Family_size_No family  \\\n",
       "PassengerId                                              \n",
       "200                           0                      1   \n",
       "704                           0                      1   \n",
       "\n",
       "             Family_size_Small family  \n",
       "PassengerId                            \n",
       "200                                 0  \n",
       "704                                 0  \n",
       "\n",
       "[2 rows x 24 columns]"
      ]
     },
     "execution_count": 901,
     "metadata": {},
     "output_type": "execute_result"
    }
   ],
   "source": [
    "X_train.head(2)"
   ]
  },
  {
   "cell_type": "code",
   "execution_count": 902,
   "id": "e00fae53",
   "metadata": {},
   "outputs": [
    {
     "data": {
      "text/html": [
       "<div>\n",
       "<style scoped>\n",
       "    .dataframe tbody tr th:only-of-type {\n",
       "        vertical-align: middle;\n",
       "    }\n",
       "\n",
       "    .dataframe tbody tr th {\n",
       "        vertical-align: top;\n",
       "    }\n",
       "\n",
       "    .dataframe thead th {\n",
       "        text-align: right;\n",
       "    }\n",
       "</style>\n",
       "<table border=\"1\" class=\"dataframe\">\n",
       "  <thead>\n",
       "    <tr style=\"text-align: right;\">\n",
       "      <th></th>\n",
       "      <th>Pclass</th>\n",
       "      <th>Name</th>\n",
       "      <th>Sex</th>\n",
       "      <th>Age</th>\n",
       "      <th>Ticket</th>\n",
       "      <th>Fare</th>\n",
       "      <th>Cabin</th>\n",
       "      <th>Embarked</th>\n",
       "      <th>Age_bins</th>\n",
       "      <th>Fare_bins</th>\n",
       "      <th>...</th>\n",
       "      <th>Embarked_Q</th>\n",
       "      <th>Embarked_S</th>\n",
       "      <th>Age_bins_young adult</th>\n",
       "      <th>Age_bins_adult</th>\n",
       "      <th>Age_bins_elder</th>\n",
       "      <th>Fare_bins_economy</th>\n",
       "      <th>Fare_bins_business</th>\n",
       "      <th>Fare_bins_high-end</th>\n",
       "      <th>Family_size_No family</th>\n",
       "      <th>Family_size_Small family</th>\n",
       "    </tr>\n",
       "    <tr>\n",
       "      <th>PassengerId</th>\n",
       "      <th></th>\n",
       "      <th></th>\n",
       "      <th></th>\n",
       "      <th></th>\n",
       "      <th></th>\n",
       "      <th></th>\n",
       "      <th></th>\n",
       "      <th></th>\n",
       "      <th></th>\n",
       "      <th></th>\n",
       "      <th></th>\n",
       "      <th></th>\n",
       "      <th></th>\n",
       "      <th></th>\n",
       "      <th></th>\n",
       "      <th></th>\n",
       "      <th></th>\n",
       "      <th></th>\n",
       "      <th></th>\n",
       "      <th></th>\n",
       "      <th></th>\n",
       "    </tr>\n",
       "  </thead>\n",
       "  <tbody>\n",
       "    <tr>\n",
       "      <th>418</th>\n",
       "      <td>2</td>\n",
       "      <td>Silven, Miss. Lyyli Karoliina</td>\n",
       "      <td>female</td>\n",
       "      <td>18.0</td>\n",
       "      <td>250652</td>\n",
       "      <td>13.00</td>\n",
       "      <td>NaN</td>\n",
       "      <td>S</td>\n",
       "      <td>minor</td>\n",
       "      <td>cheap</td>\n",
       "      <td>...</td>\n",
       "      <td>0</td>\n",
       "      <td>1</td>\n",
       "      <td>0</td>\n",
       "      <td>0</td>\n",
       "      <td>0</td>\n",
       "      <td>0</td>\n",
       "      <td>0</td>\n",
       "      <td>0</td>\n",
       "      <td>0</td>\n",
       "      <td>1</td>\n",
       "    </tr>\n",
       "    <tr>\n",
       "      <th>308</th>\n",
       "      <td>1</td>\n",
       "      <td>Penasco y Castellana, Mrs. Victor de Satode (M...</td>\n",
       "      <td>female</td>\n",
       "      <td>17.0</td>\n",
       "      <td>PC 17758</td>\n",
       "      <td>108.90</td>\n",
       "      <td>C65</td>\n",
       "      <td>C</td>\n",
       "      <td>minor</td>\n",
       "      <td>high-end</td>\n",
       "      <td>...</td>\n",
       "      <td>0</td>\n",
       "      <td>0</td>\n",
       "      <td>0</td>\n",
       "      <td>0</td>\n",
       "      <td>0</td>\n",
       "      <td>0</td>\n",
       "      <td>0</td>\n",
       "      <td>1</td>\n",
       "      <td>0</td>\n",
       "      <td>1</td>\n",
       "    </tr>\n",
       "    <tr>\n",
       "      <th>88</th>\n",
       "      <td>3</td>\n",
       "      <td>Slocovski, Mr. Selman Francis</td>\n",
       "      <td>male</td>\n",
       "      <td>28.0</td>\n",
       "      <td>SOTON/OQ 392086</td>\n",
       "      <td>8.05</td>\n",
       "      <td>NaN</td>\n",
       "      <td>S</td>\n",
       "      <td>young adult</td>\n",
       "      <td>cheap</td>\n",
       "      <td>...</td>\n",
       "      <td>0</td>\n",
       "      <td>1</td>\n",
       "      <td>1</td>\n",
       "      <td>0</td>\n",
       "      <td>0</td>\n",
       "      <td>0</td>\n",
       "      <td>0</td>\n",
       "      <td>0</td>\n",
       "      <td>1</td>\n",
       "      <td>0</td>\n",
       "    </tr>\n",
       "    <tr>\n",
       "      <th>578</th>\n",
       "      <td>1</td>\n",
       "      <td>Silvey, Mrs. William Baird (Alice Munger)</td>\n",
       "      <td>female</td>\n",
       "      <td>39.0</td>\n",
       "      <td>13507</td>\n",
       "      <td>55.90</td>\n",
       "      <td>E44</td>\n",
       "      <td>S</td>\n",
       "      <td>adult</td>\n",
       "      <td>business</td>\n",
       "      <td>...</td>\n",
       "      <td>0</td>\n",
       "      <td>1</td>\n",
       "      <td>0</td>\n",
       "      <td>1</td>\n",
       "      <td>0</td>\n",
       "      <td>0</td>\n",
       "      <td>1</td>\n",
       "      <td>0</td>\n",
       "      <td>0</td>\n",
       "      <td>1</td>\n",
       "    </tr>\n",
       "    <tr>\n",
       "      <th>685</th>\n",
       "      <td>2</td>\n",
       "      <td>Brown, Mr. Thomas William Solomon</td>\n",
       "      <td>male</td>\n",
       "      <td>60.0</td>\n",
       "      <td>29750</td>\n",
       "      <td>39.00</td>\n",
       "      <td>NaN</td>\n",
       "      <td>S</td>\n",
       "      <td>adult</td>\n",
       "      <td>economy</td>\n",
       "      <td>...</td>\n",
       "      <td>0</td>\n",
       "      <td>1</td>\n",
       "      <td>0</td>\n",
       "      <td>1</td>\n",
       "      <td>0</td>\n",
       "      <td>1</td>\n",
       "      <td>0</td>\n",
       "      <td>0</td>\n",
       "      <td>0</td>\n",
       "      <td>1</td>\n",
       "    </tr>\n",
       "  </tbody>\n",
       "</table>\n",
       "<p>5 rows × 24 columns</p>\n",
       "</div>"
      ],
      "text/plain": [
       "             Pclass                                               Name  \\\n",
       "PassengerId                                                              \n",
       "418               2                      Silven, Miss. Lyyli Karoliina   \n",
       "308               1  Penasco y Castellana, Mrs. Victor de Satode (M...   \n",
       "88                3                      Slocovski, Mr. Selman Francis   \n",
       "578               1          Silvey, Mrs. William Baird (Alice Munger)   \n",
       "685               2                  Brown, Mr. Thomas William Solomon   \n",
       "\n",
       "                Sex   Age           Ticket    Fare Cabin Embarked  \\\n",
       "PassengerId                                                         \n",
       "418          female  18.0           250652   13.00   NaN        S   \n",
       "308          female  17.0         PC 17758  108.90   C65        C   \n",
       "88             male  28.0  SOTON/OQ 392086    8.05   NaN        S   \n",
       "578          female  39.0            13507   55.90   E44        S   \n",
       "685            male  60.0            29750   39.00   NaN        S   \n",
       "\n",
       "                Age_bins Fare_bins  ...  Embarked_Q Embarked_S  \\\n",
       "PassengerId                         ...                          \n",
       "418                minor     cheap  ...           0          1   \n",
       "308                minor  high-end  ...           0          0   \n",
       "88           young adult     cheap  ...           0          1   \n",
       "578                adult  business  ...           0          1   \n",
       "685                adult   economy  ...           0          1   \n",
       "\n",
       "             Age_bins_young adult  Age_bins_adult  Age_bins_elder  \\\n",
       "PassengerId                                                         \n",
       "418                             0               0               0   \n",
       "308                             0               0               0   \n",
       "88                              1               0               0   \n",
       "578                             0               1               0   \n",
       "685                             0               1               0   \n",
       "\n",
       "             Fare_bins_economy  Fare_bins_business  Fare_bins_high-end  \\\n",
       "PassengerId                                                              \n",
       "418                          0                   0                   0   \n",
       "308                          0                   0                   1   \n",
       "88                           0                   0                   0   \n",
       "578                          0                   1                   0   \n",
       "685                          1                   0                   0   \n",
       "\n",
       "             Family_size_No family  Family_size_Small family  \n",
       "PassengerId                                                   \n",
       "418                              0                         1  \n",
       "308                              0                         1  \n",
       "88                               1                         0  \n",
       "578                              0                         1  \n",
       "685                              0                         1  \n",
       "\n",
       "[5 rows x 24 columns]"
      ]
     },
     "execution_count": 902,
     "metadata": {},
     "output_type": "execute_result"
    }
   ],
   "source": [
    "X_test.head()"
   ]
  },
  {
   "cell_type": "code",
   "execution_count": 903,
   "id": "fbfdc92e",
   "metadata": {
    "scrolled": true
   },
   "outputs": [
    {
     "data": {
      "text/plain": [
       "Index(['Pclass', 'Name', 'Sex', 'Age', 'Ticket', 'Fare', 'Cabin', 'Embarked',\n",
       "       'Age_bins', 'Fare_bins', 'Family', 'Family_size', 'Cabin_status',\n",
       "       'Sex_male', 'Embarked_Q', 'Embarked_S', 'Age_bins_young adult',\n",
       "       'Age_bins_adult', 'Age_bins_elder', 'Fare_bins_economy',\n",
       "       'Fare_bins_business', 'Fare_bins_high-end', 'Family_size_No family',\n",
       "       'Family_size_Small family'],\n",
       "      dtype='object')"
      ]
     },
     "execution_count": 903,
     "metadata": {},
     "output_type": "execute_result"
    }
   ],
   "source": [
    "X_train.columns"
   ]
  },
  {
   "cell_type": "code",
   "execution_count": 904,
   "id": "dec2e012",
   "metadata": {},
   "outputs": [
    {
     "data": {
      "text/plain": [
       "Index(['Pclass', 'Name', 'Sex', 'Age', 'Ticket', 'Fare', 'Cabin', 'Embarked',\n",
       "       'Age_bins', 'Fare_bins', 'Family', 'Family_size', 'Cabin_status',\n",
       "       'Sex_male', 'Embarked_Q', 'Embarked_S', 'Age_bins_young adult',\n",
       "       'Age_bins_adult', 'Age_bins_elder', 'Fare_bins_economy',\n",
       "       'Fare_bins_business', 'Fare_bins_high-end', 'Family_size_No family',\n",
       "       'Family_size_Small family'],\n",
       "      dtype='object')"
      ]
     },
     "execution_count": 904,
     "metadata": {},
     "output_type": "execute_result"
    }
   ],
   "source": [
    "X_test.columns"
   ]
  },
  {
   "cell_type": "code",
   "execution_count": 905,
   "id": "e0a66390",
   "metadata": {},
   "outputs": [],
   "source": [
    "#We'll lose the Name and Ticket columns as well as all columns that we have binned and encoded\n",
    "X_train = X_train[['Pclass', 'Cabin_status',\n",
    "       'Sex_male', 'Embarked_Q', 'Embarked_S', 'Age_bins_young adult',\n",
    "       'Age_bins_adult', 'Age_bins_elder', 'Fare_bins_economy',\n",
    "       'Fare_bins_business', 'Fare_bins_high-end', 'Family_size_No family',\n",
    "       'Family_size_Small family']]\n",
    "\n",
    "X_test = X_test[['Pclass','Cabin_status',\n",
    "       'Sex_male', 'Embarked_Q', 'Embarked_S', 'Age_bins_young adult',\n",
    "       'Age_bins_adult', 'Age_bins_elder', 'Fare_bins_economy',\n",
    "       'Fare_bins_business', 'Fare_bins_high-end', 'Family_size_No family',\n",
    "       'Family_size_Small family']]"
   ]
  },
  {
   "cell_type": "markdown",
   "id": "a02bd1b2",
   "metadata": {},
   "source": [
    "**5.5 Time for a quick heatmap to check for possible correlations**"
   ]
  },
  {
   "cell_type": "code",
   "execution_count": 906,
   "id": "788dab9e",
   "metadata": {},
   "outputs": [
    {
     "data": {
      "text/plain": [
       "<AxesSubplot:>"
      ]
     },
     "execution_count": 906,
     "metadata": {},
     "output_type": "execute_result"
    },
    {
     "data": {
      "image/png": "[encoded data removed]",
      "text/plain": [
       "<Figure size 864x864 with 2 Axes>"
      ]
     },
     "metadata": {},
     "output_type": "display_data"
    }
   ],
   "source": [
    "fig, ax = plt.subplots(figsize=(12,12))\n",
    "sns.heatmap(ax=ax, data=X_train.corr(), annot=True, linewidths=0.2)"
   ]
  },
  {
   "cell_type": "markdown",
   "id": "1a656e0d",
   "metadata": {},
   "source": [
    "## 6. Second logistic regression"
   ]
  },
  {
   "cell_type": "markdown",
   "id": "a649ce56",
   "metadata": {},
   "source": [
    "**6.1 Run the LogReg model**"
   ]
  },
  {
   "cell_type": "code",
   "execution_count": 907,
   "id": "d52107fd",
   "metadata": {},
   "outputs": [],
   "source": [
    "m_lr2 = LogisticRegression()"
   ]
  },
  {
   "cell_type": "code",
   "execution_count": 908,
   "id": "d65bcfa0",
   "metadata": {},
   "outputs": [
    {
     "data": {
      "text/plain": [
       "LogisticRegression()"
      ]
     },
     "execution_count": 908,
     "metadata": {},
     "output_type": "execute_result"
    }
   ],
   "source": [
    "m_lr2.fit(X_train, y_train)"
   ]
  },
  {
   "cell_type": "code",
   "execution_count": 909,
   "id": "bf8a731f",
   "metadata": {},
   "outputs": [
    {
     "data": {
      "text/plain": [
       "(0.82, 0.8)"
      ]
     },
     "execution_count": 909,
     "metadata": {},
     "output_type": "execute_result"
    }
   ],
   "source": [
    "round(m_lr2.score(X_train, y_train),2), round(m_lr2.score(X_test, y_test),2)"
   ]
  },
  {
   "cell_type": "markdown",
   "id": "52b576e6",
   "metadata": {},
   "source": [
    "**6.2 Calculate the train and validation accuracy**"
   ]
  },
  {
   "cell_type": "code",
   "execution_count": 910,
   "id": "0933379d",
   "metadata": {},
   "outputs": [],
   "source": [
    "y_pred_test = m_lr2.predict(X_test)\n",
    "y_pred_train = m_lr2.predict(X_train)"
   ]
  },
  {
   "cell_type": "code",
   "execution_count": 911,
   "id": "b0b2480c",
   "metadata": {},
   "outputs": [
    {
     "data": {
      "text/plain": [
       "<sklearn.metrics._plot.confusion_matrix.ConfusionMatrixDisplay at 0x7fe9f09859a0>"
      ]
     },
     "execution_count": 911,
     "metadata": {},
     "output_type": "execute_result"
    },
    {
     "data": {
      "image/png": "[encoded data removed]",
      "text/plain": [
       "<Figure size 432x288 with 2 Axes>"
      ]
     },
     "metadata": {},
     "output_type": "display_data"
    }
   ],
   "source": [
    "ConfusionMatrixDisplay.from_predictions(y_train, y_pred_train, normalize=None)"
   ]
  },
  {
   "cell_type": "code",
   "execution_count": 912,
   "id": "cac25082",
   "metadata": {},
   "outputs": [
    {
     "data": {
      "text/plain": [
       "<sklearn.metrics._plot.confusion_matrix.ConfusionMatrixDisplay at 0x7fe9f16168e0>"
      ]
     },
     "execution_count": 912,
     "metadata": {},
     "output_type": "execute_result"
    },
    {
     "data": {
      "image/png": "[encoded data removed]",
      "text/plain": [
       "<Figure size 432x288 with 2 Axes>"
      ]
     },
     "metadata": {},
     "output_type": "display_data"
    }
   ],
   "source": [
    "ConfusionMatrixDisplay.from_predictions(y_test, y_pred_test, normalize=None)"
   ]
  },
  {
   "cell_type": "code",
   "execution_count": 913,
   "id": "47e0b14b",
   "metadata": {},
   "outputs": [
    {
     "name": "stdout",
     "output_type": "stream",
     "text": [
      "              precision    recall  f1-score   support\n",
      "\n",
      "           0       0.83      0.88      0.86       441\n",
      "           1       0.78      0.72      0.75       271\n",
      "\n",
      "    accuracy                           0.82       712\n",
      "   macro avg       0.81      0.80      0.80       712\n",
      "weighted avg       0.81      0.82      0.81       712\n",
      "\n"
     ]
    }
   ],
   "source": [
    "print(classification_report(y_train, y_pred_train))"
   ]
  },
  {
   "cell_type": "code",
   "execution_count": 914,
   "id": "a484c2f8",
   "metadata": {},
   "outputs": [
    {
     "name": "stdout",
     "output_type": "stream",
     "text": [
      "              precision    recall  f1-score   support\n",
      "\n",
      "           0       0.81      0.89      0.85       108\n",
      "           1       0.80      0.68      0.73        71\n",
      "\n",
      "    accuracy                           0.80       179\n",
      "   macro avg       0.80      0.78      0.79       179\n",
      "weighted avg       0.80      0.80      0.80       179\n",
      "\n"
     ]
    }
   ],
   "source": [
    "print(classification_report(y_test, y_pred_test))"
   ]
  },
  {
   "cell_type": "code",
   "execution_count": 915,
   "id": "778cb3cd",
   "metadata": {},
   "outputs": [
    {
     "name": "stderr",
     "output_type": "stream",
     "text": [
      "/Users/finngebauer/opt/anaconda3/lib/python3.9/site-packages/sklearn/utils/deprecation.py:87: FutureWarning: Function plot_roc_curve is deprecated; Function :func:`plot_roc_curve` is deprecated in 1.0 and will be removed in 1.2. Use one of the class methods: :meth:`sklearn.metric.RocCurveDisplay.from_predictions` or :meth:`sklearn.metric.RocCurveDisplay.from_estimator`.\n",
      "  warnings.warn(msg, category=FutureWarning)\n"
     ]
    },
    {
     "data": {
      "text/plain": [
       "<sklearn.metrics._plot.roc_curve.RocCurveDisplay at 0x7fea27412430>"
      ]
     },
     "execution_count": 915,
     "metadata": {},
     "output_type": "execute_result"
    },
    {
     "data": {
      "image/png": "[encoded data removed]",
      "text/plain": [
       "<Figure size 432x288 with 1 Axes>"
      ]
     },
     "metadata": {},
     "output_type": "display_data"
    }
   ],
   "source": [
    "plot_roc_curve(m_lr2, X_train, y_train)"
   ]
  },
  {
   "cell_type": "markdown",
   "id": "e7913d9b",
   "metadata": {},
   "source": [
    "Alright, this is looking much better but let's look at other models, first, it's time to wander into the woods."
   ]
  },
  {
   "cell_type": "markdown",
   "id": "246fa34e",
   "metadata": {},
   "source": [
    "## 7. Random Forest"
   ]
  },
  {
   "cell_type": "markdown",
   "id": "61498d91",
   "metadata": {},
   "source": [
    "**7.1 Run the model**"
   ]
  },
  {
   "cell_type": "code",
   "execution_count": 916,
   "id": "4ccef6f0",
   "metadata": {},
   "outputs": [],
   "source": [
    "m_rf = RandomForestClassifier(n_estimators=100, max_depth=5)"
   ]
  },
  {
   "cell_type": "code",
   "execution_count": 917,
   "id": "55af07b3",
   "metadata": {},
   "outputs": [
    {
     "data": {
      "text/plain": [
       "RandomForestClassifier(max_depth=5)"
      ]
     },
     "execution_count": 917,
     "metadata": {},
     "output_type": "execute_result"
    }
   ],
   "source": [
    "m_rf.fit(X_train,y_train)"
   ]
  },
  {
   "cell_type": "code",
   "execution_count": 918,
   "id": "86d12bf3",
   "metadata": {},
   "outputs": [
    {
     "data": {
      "text/plain": [
       "(0.83, 0.8)"
      ]
     },
     "execution_count": 918,
     "metadata": {},
     "output_type": "execute_result"
    }
   ],
   "source": [
    "round(m_rf.score(X_train, y_train), 2), round(m_rf.score(X_test, y_test),2)"
   ]
  },
  {
   "cell_type": "markdown",
   "id": "bbd464db",
   "metadata": {},
   "source": [
    "**7.2 Calculate the train and validation accuracy**"
   ]
  },
  {
   "cell_type": "code",
   "execution_count": 919,
   "id": "3a94bb8c",
   "metadata": {},
   "outputs": [],
   "source": [
    "y_pred_test = m_rf.predict(X_test)\n",
    "y_pred_train = m_rf.predict(X_train)"
   ]
  },
  {
   "cell_type": "code",
   "execution_count": 920,
   "id": "925909ce",
   "metadata": {},
   "outputs": [
    {
     "data": {
      "text/plain": [
       "<sklearn.metrics._plot.confusion_matrix.ConfusionMatrixDisplay at 0x7fea34717ee0>"
      ]
     },
     "execution_count": 920,
     "metadata": {},
     "output_type": "execute_result"
    },
    {
     "data": {
      "image/png": "[encoded data removed]",
      "text/plain": [
       "<Figure size 432x288 with 2 Axes>"
      ]
     },
     "metadata": {},
     "output_type": "display_data"
    }
   ],
   "source": [
    "ConfusionMatrixDisplay.from_predictions(y_train, y_pred_train, normalize=None)"
   ]
  },
  {
   "cell_type": "code",
   "execution_count": 921,
   "id": "788e9403",
   "metadata": {},
   "outputs": [
    {
     "data": {
      "text/plain": [
       "<sklearn.metrics._plot.confusion_matrix.ConfusionMatrixDisplay at 0x7fea35079040>"
      ]
     },
     "execution_count": 921,
     "metadata": {},
     "output_type": "execute_result"
    },
    {
     "data": {
      "image/png": "[encoded data removed]",
      "text/plain": [
       "<Figure size 432x288 with 2 Axes>"
      ]
     },
     "metadata": {},
     "output_type": "display_data"
    }
   ],
   "source": [
    "ConfusionMatrixDisplay.from_predictions(y_test, y_pred_test, normalize=None)"
   ]
  },
  {
   "cell_type": "code",
   "execution_count": 922,
   "id": "50f08b1e",
   "metadata": {},
   "outputs": [
    {
     "name": "stdout",
     "output_type": "stream",
     "text": [
      "              precision    recall  f1-score   support\n",
      "\n",
      "           0       0.83      0.93      0.87       441\n",
      "           1       0.85      0.68      0.76       271\n",
      "\n",
      "    accuracy                           0.83       712\n",
      "   macro avg       0.84      0.80      0.81       712\n",
      "weighted avg       0.83      0.83      0.83       712\n",
      "\n"
     ]
    }
   ],
   "source": [
    "print(classification_report(y_train, y_pred_train))"
   ]
  },
  {
   "cell_type": "code",
   "execution_count": 923,
   "id": "5172715c",
   "metadata": {},
   "outputs": [
    {
     "name": "stdout",
     "output_type": "stream",
     "text": [
      "              precision    recall  f1-score   support\n",
      "\n",
      "           0       0.81      0.88      0.84       108\n",
      "           1       0.79      0.68      0.73        71\n",
      "\n",
      "    accuracy                           0.80       179\n",
      "   macro avg       0.80      0.78      0.78       179\n",
      "weighted avg       0.80      0.80      0.80       179\n",
      "\n"
     ]
    }
   ],
   "source": [
    "print(classification_report(y_test, y_pred_test))"
   ]
  },
  {
   "cell_type": "code",
   "execution_count": 924,
   "id": "f7d4654b",
   "metadata": {},
   "outputs": [
    {
     "name": "stderr",
     "output_type": "stream",
     "text": [
      "/Users/finngebauer/opt/anaconda3/lib/python3.9/site-packages/sklearn/utils/deprecation.py:87: FutureWarning: Function plot_roc_curve is deprecated; Function :func:`plot_roc_curve` is deprecated in 1.0 and will be removed in 1.2. Use one of the class methods: :meth:`sklearn.metric.RocCurveDisplay.from_predictions` or :meth:`sklearn.metric.RocCurveDisplay.from_estimator`.\n",
      "  warnings.warn(msg, category=FutureWarning)\n"
     ]
    },
    {
     "data": {
      "text/plain": [
       "<sklearn.metrics._plot.roc_curve.RocCurveDisplay at 0x7fea34f44b80>"
      ]
     },
     "execution_count": 924,
     "metadata": {},
     "output_type": "execute_result"
    },
    {
     "data": {
      "image/png": "[encoded data removed]",
      "text/plain": [
       "<Figure size 432x288 with 1 Axes>"
      ]
     },
     "metadata": {},
     "output_type": "display_data"
    }
   ],
   "source": [
    "plot_roc_curve(m_rf, X_train, y_train)"
   ]
  },
  {
   "cell_type": "markdown",
   "id": "c4a87fa8",
   "metadata": {},
   "source": [
    "The current hyperparameters give us a well-performing and stable model. We'll run two more models against this."
   ]
  },
  {
   "cell_type": "markdown",
   "id": "86b6a320",
   "metadata": {},
   "source": [
    "## 8. Support vector machines"
   ]
  },
  {
   "cell_type": "markdown",
   "id": "12375016",
   "metadata": {},
   "source": [
    "**8.1 Run the model**"
   ]
  },
  {
   "cell_type": "code",
   "execution_count": 925,
   "id": "f67d0578",
   "metadata": {},
   "outputs": [
    {
     "data": {
      "text/plain": [
       "(0.82, 0.75)"
      ]
     },
     "execution_count": 925,
     "metadata": {},
     "output_type": "execute_result"
    }
   ],
   "source": [
    "m_svc = SVC(kernel='rbf', C=0.1)\n",
    "m_svc.fit(X_train, y_train)\n",
    "round(m_svc.score(X_train, y_train),2), round(m_svc.score(X_test, y_test),2)"
   ]
  },
  {
   "cell_type": "markdown",
   "id": "551b404c",
   "metadata": {},
   "source": [
    "**8.2 Calculate the train and validation accuracy**"
   ]
  },
  {
   "cell_type": "code",
   "execution_count": 926,
   "id": "ca9a676a",
   "metadata": {},
   "outputs": [],
   "source": [
    "y_pred_test = m_svc.predict(X_test)\n",
    "y_pred_train = m_svc.predict(X_train)"
   ]
  },
  {
   "cell_type": "code",
   "execution_count": 927,
   "id": "3c289676",
   "metadata": {},
   "outputs": [
    {
     "data": {
      "text/plain": [
       "<sklearn.metrics._plot.confusion_matrix.ConfusionMatrixDisplay at 0x7fea3512e0d0>"
      ]
     },
     "execution_count": 927,
     "metadata": {},
     "output_type": "execute_result"
    },
    {
     "data": {
      "image/png": "[encoded data removed]",
      "text/plain": [
       "<Figure size 432x288 with 2 Axes>"
      ]
     },
     "metadata": {},
     "output_type": "display_data"
    }
   ],
   "source": [
    "ConfusionMatrixDisplay.from_predictions(y_train, y_pred_train, normalize=None)"
   ]
  },
  {
   "cell_type": "code",
   "execution_count": 928,
   "id": "6ac86359",
   "metadata": {},
   "outputs": [
    {
     "data": {
      "text/plain": [
       "<sklearn.metrics._plot.confusion_matrix.ConfusionMatrixDisplay at 0x7fea34fa98e0>"
      ]
     },
     "execution_count": 928,
     "metadata": {},
     "output_type": "execute_result"
    },
    {
     "data": {
      "image/png": "[encoded data removed]",
      "text/plain": [
       "<Figure size 432x288 with 2 Axes>"
      ]
     },
     "metadata": {},
     "output_type": "display_data"
    }
   ],
   "source": [
    "ConfusionMatrixDisplay.from_predictions(y_test, y_pred_test, normalize=None)"
   ]
  },
  {
   "cell_type": "code",
   "execution_count": 929,
   "id": "798d3e06",
   "metadata": {},
   "outputs": [
    {
     "name": "stdout",
     "output_type": "stream",
     "text": [
      "              precision    recall  f1-score   support\n",
      "\n",
      "           0       0.84      0.87      0.85       441\n",
      "           1       0.78      0.73      0.75       271\n",
      "\n",
      "    accuracy                           0.82       712\n",
      "   macro avg       0.81      0.80      0.80       712\n",
      "weighted avg       0.81      0.82      0.81       712\n",
      "\n"
     ]
    }
   ],
   "source": [
    "print(classification_report(y_train, y_pred_train))"
   ]
  },
  {
   "cell_type": "code",
   "execution_count": 930,
   "id": "c2926156",
   "metadata": {},
   "outputs": [
    {
     "name": "stdout",
     "output_type": "stream",
     "text": [
      "              precision    recall  f1-score   support\n",
      "\n",
      "           0       0.79      0.81      0.80       108\n",
      "           1       0.70      0.66      0.68        71\n",
      "\n",
      "    accuracy                           0.75       179\n",
      "   macro avg       0.74      0.74      0.74       179\n",
      "weighted avg       0.75      0.75      0.75       179\n",
      "\n"
     ]
    }
   ],
   "source": [
    "print(classification_report(y_test, y_pred_test))"
   ]
  },
  {
   "cell_type": "code",
   "execution_count": 931,
   "id": "187df29a",
   "metadata": {},
   "outputs": [
    {
     "name": "stderr",
     "output_type": "stream",
     "text": [
      "/Users/finngebauer/opt/anaconda3/lib/python3.9/site-packages/sklearn/utils/deprecation.py:87: FutureWarning: Function plot_roc_curve is deprecated; Function :func:`plot_roc_curve` is deprecated in 1.0 and will be removed in 1.2. Use one of the class methods: :meth:`sklearn.metric.RocCurveDisplay.from_predictions` or :meth:`sklearn.metric.RocCurveDisplay.from_estimator`.\n",
      "  warnings.warn(msg, category=FutureWarning)\n"
     ]
    },
    {
     "data": {
      "text/plain": [
       "<sklearn.metrics._plot.roc_curve.RocCurveDisplay at 0x7fea27592970>"
      ]
     },
     "execution_count": 931,
     "metadata": {},
     "output_type": "execute_result"
    },
    {
     "data": {
      "image/png": "[encoded data removed]",
      "text/plain": [
       "<Figure size 432x288 with 1 Axes>"
      ]
     },
     "metadata": {},
     "output_type": "display_data"
    }
   ],
   "source": [
    "plot_roc_curve(m_svc, X_train, y_train)"
   ]
  },
  {
   "cell_type": "markdown",
   "id": "dd6f3189",
   "metadata": {},
   "source": [
    "The SVC seems to perform similarly to the LogReg model with the rbf hyperparameter. Lastly, we'll check how a ensemble model performs."
   ]
  },
  {
   "cell_type": "markdown",
   "id": "25a569f7",
   "metadata": {},
   "source": [
    "## 9. Ensemble model"
   ]
  },
  {
   "cell_type": "markdown",
   "id": "7d0e71d6",
   "metadata": {},
   "source": [
    "**9.1 Run the model**"
   ]
  },
  {
   "cell_type": "code",
   "execution_count": 932,
   "id": "c91be96d",
   "metadata": {},
   "outputs": [
    {
     "data": {
      "text/plain": [
       "(0.82, 0.78)"
      ]
     },
     "execution_count": 932,
     "metadata": {},
     "output_type": "execute_result"
    }
   ],
   "source": [
    "models = [\n",
    "          ('logreg', LogisticRegression()),\n",
    "          ('random_forest', RandomForestClassifier(n_estimators=1000, max_depth=3)),\n",
    "          ('svm', SVC(kernel='rbf', C=0.1))]\n",
    "\n",
    "m_ens = VotingClassifier(models)\n",
    "\n",
    "m_ens.fit(X_train, y_train)\n",
    "round(m_ens.score(X_train, y_train),2), round(m_ens.score(X_test, y_test),2)"
   ]
  },
  {
   "cell_type": "markdown",
   "id": "726b599d",
   "metadata": {},
   "source": [
    "**9.2 Calculate the train and validation accuracy**"
   ]
  },
  {
   "cell_type": "code",
   "execution_count": 933,
   "id": "44c8bec8",
   "metadata": {},
   "outputs": [],
   "source": [
    "y_pred_test = m_ens.predict(X_test)\n",
    "y_pred_train = m_ens.predict(X_train)"
   ]
  },
  {
   "cell_type": "code",
   "execution_count": 934,
   "id": "e551c004",
   "metadata": {},
   "outputs": [
    {
     "data": {
      "text/plain": [
       "<sklearn.metrics._plot.confusion_matrix.ConfusionMatrixDisplay at 0x7fea3411be20>"
      ]
     },
     "execution_count": 934,
     "metadata": {},
     "output_type": "execute_result"
    },
    {
     "data": {
      "image/png": "[encoded data removed]",
      "text/plain": [
       "<Figure size 432x288 with 2 Axes>"
      ]
     },
     "metadata": {},
     "output_type": "display_data"
    }
   ],
   "source": [
    "ConfusionMatrixDisplay.from_predictions(y_train, y_pred_train, normalize=None)"
   ]
  },
  {
   "cell_type": "code",
   "execution_count": 935,
   "id": "3df982fc",
   "metadata": {},
   "outputs": [
    {
     "data": {
      "text/plain": [
       "<sklearn.metrics._plot.confusion_matrix.ConfusionMatrixDisplay at 0x7fea22821700>"
      ]
     },
     "execution_count": 935,
     "metadata": {},
     "output_type": "execute_result"
    },
    {
     "data": {
      "image/png": "[encoded data removed]",
      "text/plain": [
       "<Figure size 432x288 with 2 Axes>"
      ]
     },
     "metadata": {},
     "output_type": "display_data"
    }
   ],
   "source": [
    "ConfusionMatrixDisplay.from_predictions(y_test, y_pred_test, normalize=None)"
   ]
  },
  {
   "cell_type": "code",
   "execution_count": 936,
   "id": "e645137c",
   "metadata": {},
   "outputs": [
    {
     "name": "stdout",
     "output_type": "stream",
     "text": [
      "              precision    recall  f1-score   support\n",
      "\n",
      "           0       0.84      0.88      0.86       441\n",
      "           1       0.79      0.72      0.76       271\n",
      "\n",
      "    accuracy                           0.82       712\n",
      "   macro avg       0.82      0.80      0.81       712\n",
      "weighted avg       0.82      0.82      0.82       712\n",
      "\n"
     ]
    }
   ],
   "source": [
    "print(classification_report(y_train, y_pred_train))"
   ]
  },
  {
   "cell_type": "code",
   "execution_count": 937,
   "id": "4cde2624",
   "metadata": {},
   "outputs": [
    {
     "name": "stdout",
     "output_type": "stream",
     "text": [
      "              precision    recall  f1-score   support\n",
      "\n",
      "           0       0.80      0.85      0.83       108\n",
      "           1       0.75      0.68      0.71        71\n",
      "\n",
      "    accuracy                           0.78       179\n",
      "   macro avg       0.78      0.76      0.77       179\n",
      "weighted avg       0.78      0.78      0.78       179\n",
      "\n"
     ]
    }
   ],
   "source": [
    "print(classification_report(y_test, y_pred_test))"
   ]
  },
  {
   "cell_type": "markdown",
   "id": "833376f5",
   "metadata": {},
   "source": [
    "## 10. Summary"
   ]
  },
  {
   "cell_type": "markdown",
   "id": "4bafa490",
   "metadata": {},
   "source": [
    "As expected, the ensemble model performs very well, however, the single models perform equally as well and are easier to understand. Random Forest has the best results, however, the logistic regression is a simpler model and gets very close.\n",
    "\n",
    "What could we do better? There is likely information in the 'Ticket' (e.g. people that travel together) and 'Name'(perhaps name length could be an indicator?) columns. Additionally, scaling instead of binning our fare values could provide us with a more robust model that is not biased by my bins. Lastly, the cabin values might contain more information. Considering the number of non-null values in there, I doubt that it would improve the model by much."
   ]
  }
 ],
 "metadata": {
  "kernelspec": {
   "display_name": "Python 3 (ipykernel)",
   "language": "python",
   "name": "python3"
  },
  "language_info": {
   "codemirror_mode": {
    "name": "ipython",
    "version": 3
   },
   "file_extension": ".py",
   "mimetype": "text/x-python",
   "name": "python",
   "nbconvert_exporter": "python",
   "pygments_lexer": "ipython3",
   "version": "3.9.12"
  }
 },
 "nbformat": 4,
 "nbformat_minor": 5
}
